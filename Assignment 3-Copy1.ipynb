{
 "cells": [
  {
   "cell_type": "markdown",
   "metadata": {},
   "source": [
    "Assignment 3, Steven Green 817121481"
   ]
  },
  {
   "cell_type": "code",
   "execution_count": 9,
   "metadata": {},
   "outputs": [],
   "source": [
    "import numpy as np\n",
    "import matplotlib.pyplot as plt\n",
    "import math\n",
    "%matplotlib inline"
   ]
  },
  {
   "cell_type": "markdown",
   "metadata": {},
   "source": [
    "\n",
    "Problem 1 - 4 pts each: So, the Binomial Theorem is one of those things that is often nice to know. The theorem says for $n$ a positive integer that\n",
    "\n",
    "$$\n",
    "(x+y)^{n} = \\sum_{l=0}^{n}\\begin{pmatrix} n \\\\ l \\end{pmatrix} x^{l}y^{n-l}, \\quad  \\begin{pmatrix} n \\\\ l\\end{pmatrix} = \\frac{n!}{l!(n-l)!}.\n",
    "$$\n",
    "Using the Binomial Theorem show that:\n",
    "\n",
    "1a. $$\n",
    "(x+y)^{4} = x^{4} + 4x^3y + 6x^2y^2 + 4xy^3 + y^4\n",
    "$$\n",
    "\n",
    "1b. $$ \n",
    "(x -y)^{2} = x^{2} - 2xy + y^2\n",
    "$$ Show all steps by way of the Binomial Theorem, i.e. do not just foil and write down the result.\n",
    "\n",
    "1c. Using the Pascal's triangle below PT write down the expansion for $$\n",
    "(x+y)^{6}\n",
    "$$ Note, if you understand how Pascal's triangle works, then this should not require much work, i.e. do not foil or use the Binomial Theorem directly.\n",
    "\n",
    "Answers to Problem 1"
   ]
  },
  {
   "cell_type": "code",
   "execution_count": 125,
   "metadata": {},
   "outputs": [],
   "source": [
    "def binThm(power,xCoef,yCoef):\n",
    "    ans = \"\" ##initialize the ans string\n",
    "    flag =0 ## for negative y coeficients \n",
    "    for z in range (0,power+1): # run loop from 0 - n \n",
    "        temp = (math.factorial(power))/(math.factorial(z)*math.factorial(power-z))\n",
    "        ##temp is the calculation for the coeficcient \n",
    "        if (yCoef == -1):\n",
    "            if ((z + 1)%2==1):\n",
    "                flag=1 ##set flag bit for - coefficient on odd exponents\n",
    "        print str(temp) + \"x^\" + str(z) +\"y^\" +str(power-z) ,\n",
    "        \n",
    "        if(z+1 != power+1 and flag ==0 ):\n",
    "            print \"+\" ,\n",
    "        elif (z+1 != power+1 and flag ==1):\n",
    "            print \"-\" ,\n",
    "        ans += str(temp) + \"x^\" + str(z) +\"y^\" +str(power-z) + \" \"\n",
    "        if(z+1 != power+1 and flag ==0 ):\n",
    "            ans += \"+ \"\n",
    "        elif (z+1 != power+1 and flag ==1):\n",
    "            ans+= \"- \" \n",
    "        ##bunch of if block conditions to either print a + or - coefficient\n",
    "        \n",
    "        flag = 0 ## reset flag marker for each loop iteration\n",
    "    return ans"
   ]
  },
  {
   "cell_type": "markdown",
   "metadata": {},
   "source": [
    "1a)"
   ]
  },
  {
   "cell_type": "code",
   "execution_count": 126,
   "metadata": {},
   "outputs": [
    {
     "name": "stdout",
     "output_type": "stream",
     "text": [
      "1x^0y^4 + 4x^1y^3 + 6x^2y^2 + 4x^3y^1 + 1x^4y^0\n",
      "1x^0y^4 + 4x^1y^3 + 6x^2y^2 + 4x^3y^1 + 1x^4y^0 \n"
     ]
    }
   ],
   "source": [
    "temp = binThm(4,1,1)\n",
    "print\n",
    "print temp\n",
    "##did it as a hardcode and a string returned from function"
   ]
  },
  {
   "cell_type": "markdown",
   "metadata": {},
   "source": [
    "1b)"
   ]
  },
  {
   "cell_type": "code",
   "execution_count": 128,
   "metadata": {},
   "outputs": [
    {
     "name": "stdout",
     "output_type": "stream",
     "text": [
      "1x^0y^2 - 2x^1y^1 + 1x^2y^0\n",
      "1x^0y^2 - 2x^1y^1 + 1x^2y^0 \n"
     ]
    }
   ],
   "source": [
    "temp = binThm(2,1,-1)\n",
    "print\n",
    "print temp\n",
    "##did it as a hardcode and a string returned from function"
   ]
  },
  {
   "cell_type": "markdown",
   "metadata": {},
   "source": [
    "1c)"
   ]
  },
  {
   "cell_type": "code",
   "execution_count": 163,
   "metadata": {},
   "outputs": [],
   "source": [
    "def pascal_triangle(n):\n",
    "    temp = []\n",
    "    for i in range(n):\n",
    "        if i == 0: ##if the input was 1\n",
    "            temp_list = [1] \n",
    "            temp.append(temp_list)\n",
    "            print temp_list\n",
    "            continue\n",
    "        if i==1:\n",
    "            temp_list = [1,1]       \n",
    "            temp.append(temp_list)\n",
    "            print temp_list\n",
    "            continue\n",
    "        temp_list = [m for m in range(i+1)]##makes temp list larger \n",
    "        for z in range(1,i):\n",
    "            temp_list[0] = 1 ##first to be printed 1\n",
    "            temp_list[i] = 1 ## last to be printed 1\n",
    "            temp_list[z] = temp[i-1][z] + temp[i-1][z-1]##middles to be printed  \n",
    "        temp.append(temp_list)##honestly was easiest way to clear temp_list\n",
    "        print(temp_list)##print after each iteration "
   ]
  },
  {
   "cell_type": "code",
   "execution_count": 164,
   "metadata": {},
   "outputs": [
    {
     "name": "stdout",
     "output_type": "stream",
     "text": [
      "[1]\n",
      "[1, 1]\n",
      "[1, 2, 1]\n",
      "[1, 3, 3, 1]\n",
      "[1, 4, 6, 4, 1]\n",
      "[1, 5, 10, 10, 5, 1]\n"
     ]
    }
   ],
   "source": [
    "pascal_triangle(6)"
   ]
  },
  {
   "cell_type": "markdown",
   "metadata": {},
   "source": [
    "Problem 2 - 2pts each"
   ]
  },
  {
   "cell_type": "markdown",
   "metadata": {},
   "source": [
    "2a. What does the Python code\n",
    "\n",
    "print np.linspace(0,1,11)\n",
    "\n",
    "do? (To answer this run the code and then briefly explain the result.)"
   ]
  },
  {
   "cell_type": "code",
   "execution_count": 34,
   "metadata": {},
   "outputs": [
    {
     "name": "stdout",
     "output_type": "stream",
     "text": [
      "[0.  0.1 0.2 0.3 0.4 0.5 0.6 0.7 0.8 0.9 1. ]\n"
     ]
    }
   ],
   "source": [
    "print np.linspace(0,1,11)"
   ]
  },
  {
   "cell_type": "markdown",
   "metadata": {},
   "source": [
    "ANSWER: The code prints elements of an ndarray that was returned from the linspace function \n",
    "   \n",
    "the ndarray produced contains 11 equally spaced items generateed in the range of 0 - 1"
   ]
  },
  {
   "cell_type": "markdown",
   "metadata": {},
   "source": [
    "2b. What does the Python code\n",
    "\n",
    "print np.linspace(0,10,11)\n",
    "\n",
    "do? (To answer this run the code and then briefly explain the result.)"
   ]
  },
  {
   "cell_type": "code",
   "execution_count": 35,
   "metadata": {},
   "outputs": [
    {
     "name": "stdout",
     "output_type": "stream",
     "text": [
      "[ 0.  1.  2.  3.  4.  5.  6.  7.  8.  9. 10.]\n"
     ]
    }
   ],
   "source": [
    "print np.linspace(0,10,11)"
   ]
  },
  {
   "cell_type": "markdown",
   "metadata": {},
   "source": [
    "ANSWER: The code prints elements of an ndarray that was returned from the linspace function \n",
    "   \n",
    "the ndarray produced contains 11 equally spaced items generateed in the range of 0 - 10 "
   ]
  },
  {
   "cell_type": "markdown",
   "metadata": {},
   "source": [
    "2c. In general then, explain what the command\n",
    "\n",
    "np.linspace(a,b,n+1)\n",
    "\n",
    "does for arbitrary real values $a$ and $b>a$, and positive integer value $n$."
   ]
  },
  {
   "cell_type": "markdown",
   "metadata": {},
   "source": [
    "ANSWER: the linspace function in the numpy library returns an ndarray \n",
    "this paticular ndarray is made of n+1 equally spaced numbers in the range of numbers from a - b "
   ]
  },
  {
   "cell_type": "markdown",
   "metadata": {},
   "source": [
    "Problem 3 : 3pts each - So if we start with a numpy array like\n",
    "\n",
    "xvals = np.linspace(0.,2.,int(1e3))\n",
    "\n",
    "then if we wanted to plot $f(x)=x^2$ for $0\\leq x \\leq 2$, we would just have to write\n",
    "\n",
    "yvals = xvals**2\n",
    "plt.plot(xvals,yvals)\n",
    "\n",
    "This shows how using NumPy arrays allows us to do arithmetic over multiple points at a time."
   ]
  },
  {
   "cell_type": "markdown",
   "metadata": {},
   "source": [
    "3a. Plot $f(x) = x^3 + 3x^2 + 2x + 1$ over $-2\\leq x \\leq 2.1$. Provide labels and make sure your plot window is well sized and fits the domain over which you are plotting.\n",
    "\n"
   ]
  },
  {
   "cell_type": "code",
   "execution_count": 150,
   "metadata": {},
   "outputs": [],
   "source": [
    "xvals = np.linspace(0.,2.,int(1e3))"
   ]
  },
  {
   "cell_type": "code",
   "execution_count": 151,
   "metadata": {},
   "outputs": [],
   "source": [
    "yvals = xvals**2"
   ]
  },
  {
   "cell_type": "code",
   "execution_count": 152,
   "metadata": {},
   "outputs": [
    {
     "data": {
      "text/plain": [
       "[<matplotlib.lines.Line2D at 0x92747b8>]"
      ]
     },
     "execution_count": 152,
     "metadata": {},
     "output_type": "execute_result"
    },
    {
     "data": {
      "image/png": "[encoded data removed]",
      "text/plain": [
       "<Figure size 432x288 with 1 Axes>"
      ]
     },
     "metadata": {
      "needs_background": "light"
     },
     "output_type": "display_data"
    }
   ],
   "source": [
    "plt.plot(xvals,yvals)"
   ]
  },
  {
   "cell_type": "code",
   "execution_count": 159,
   "metadata": {},
   "outputs": [],
   "source": [
    "xvals = np.linspace(-2.,2.1,int(1e3))"
   ]
  },
  {
   "cell_type": "code",
   "execution_count": 161,
   "metadata": {},
   "outputs": [],
   "source": [
    "yvals = xvals**3 + 3*(xvals**2)+2*xvals+1"
   ]
  },
  {
   "cell_type": "code",
   "execution_count": 162,
   "metadata": {},
   "outputs": [
    {
     "data": {
      "text/plain": [
       "[<matplotlib.lines.Line2D at 0x93192e8>]"
      ]
     },
     "execution_count": 162,
     "metadata": {},
     "output_type": "execute_result"
    },
    {
     "data": {
      "image/png": "[encoded data removed]",
      "text/plain": [
       "<Figure size 432x288 with 1 Axes>"
      ]
     },
     "metadata": {
      "needs_background": "light"
     },
     "output_type": "display_data"
    }
   ],
   "source": [
    "plt.plot(xvals,yvals)"
   ]
  },
  {
   "cell_type": "markdown",
   "metadata": {},
   "source": [
    "3b. In Python, write the command to create a NumPy array of points between and including $x=1$ and $11$ with spacing between the points equal to $.1$.\n",
    "\n"
   ]
  },
  {
   "cell_type": "code",
   "execution_count": 41,
   "metadata": {},
   "outputs": [
    {
     "name": "stdout",
     "output_type": "stream",
     "text": [
      "[ 1.   1.1  1.2  1.3  1.4  1.5  1.6  1.7  1.8  1.9  2.   2.1  2.2  2.3\n",
      "  2.4  2.5  2.6  2.7  2.8  2.9  3.   3.1  3.2  3.3  3.4  3.5  3.6  3.7\n",
      "  3.8  3.9  4.   4.1  4.2  4.3  4.4  4.5  4.6  4.7  4.8  4.9  5.   5.1\n",
      "  5.2  5.3  5.4  5.5  5.6  5.7  5.8  5.9  6.   6.1  6.2  6.3  6.4  6.5\n",
      "  6.6  6.7  6.8  6.9  7.   7.1  7.2  7.3  7.4  7.5  7.6  7.7  7.8  7.9\n",
      "  8.   8.1  8.2  8.3  8.4  8.5  8.6  8.7  8.8  8.9  9.   9.1  9.2  9.3\n",
      "  9.4  9.5  9.6  9.7  9.8  9.9 10.  10.1 10.2 10.3 10.4 10.5 10.6 10.7\n",
      " 10.8 10.9 11. ]\n"
     ]
    }
   ],
   "source": [
    "NumPyArray = np.linspace(1.,11.,101)\n",
    "print NumPyArray"
   ]
  },
  {
   "cell_type": "markdown",
   "metadata": {},
   "source": [
    "3c. What is the spacing between points in the array np.linspace(1.3,2.4,int(5e2))? Note, do not just print out the points, take the difference, and report the result.\n"
   ]
  },
  {
   "cell_type": "code",
   "execution_count": 42,
   "metadata": {},
   "outputs": [
    {
     "name": "stdout",
     "output_type": "stream",
     "text": [
      "[1.3        1.30220441 1.30440882 1.30661323 1.30881764 1.31102204\n",
      " 1.31322645 1.31543086 1.31763527 1.31983968 1.32204409 1.3242485\n",
      " 1.32645291 1.32865731 1.33086172 1.33306613 1.33527054 1.33747495\n",
      " 1.33967936 1.34188377 1.34408818 1.34629259 1.34849699 1.3507014\n",
      " 1.35290581 1.35511022 1.35731463 1.35951904 1.36172345 1.36392786\n",
      " 1.36613226 1.36833667 1.37054108 1.37274549 1.3749499  1.37715431\n",
      " 1.37935872 1.38156313 1.38376754 1.38597194 1.38817635 1.39038076\n",
      " 1.39258517 1.39478958 1.39699399 1.3991984  1.40140281 1.40360721\n",
      " 1.40581162 1.40801603 1.41022044 1.41242485 1.41462926 1.41683367\n",
      " 1.41903808 1.42124248 1.42344689 1.4256513  1.42785571 1.43006012\n",
      " 1.43226453 1.43446894 1.43667335 1.43887776 1.44108216 1.44328657\n",
      " 1.44549098 1.44769539 1.4498998  1.45210421 1.45430862 1.45651303\n",
      " 1.45871743 1.46092184 1.46312625 1.46533066 1.46753507 1.46973948\n",
      " 1.47194389 1.4741483  1.47635271 1.47855711 1.48076152 1.48296593\n",
      " 1.48517034 1.48737475 1.48957916 1.49178357 1.49398798 1.49619238\n",
      " 1.49839679 1.5006012  1.50280561 1.50501002 1.50721443 1.50941884\n",
      " 1.51162325 1.51382766 1.51603206 1.51823647 1.52044088 1.52264529\n",
      " 1.5248497  1.52705411 1.52925852 1.53146293 1.53366733 1.53587174\n",
      " 1.53807615 1.54028056 1.54248497 1.54468938 1.54689379 1.5490982\n",
      " 1.55130261 1.55350701 1.55571142 1.55791583 1.56012024 1.56232465\n",
      " 1.56452906 1.56673347 1.56893788 1.57114228 1.57334669 1.5755511\n",
      " 1.57775551 1.57995992 1.58216433 1.58436874 1.58657315 1.58877756\n",
      " 1.59098196 1.59318637 1.59539078 1.59759519 1.5997996  1.60200401\n",
      " 1.60420842 1.60641283 1.60861723 1.61082164 1.61302605 1.61523046\n",
      " 1.61743487 1.61963928 1.62184369 1.6240481  1.62625251 1.62845691\n",
      " 1.63066132 1.63286573 1.63507014 1.63727455 1.63947896 1.64168337\n",
      " 1.64388778 1.64609218 1.64829659 1.650501   1.65270541 1.65490982\n",
      " 1.65711423 1.65931864 1.66152305 1.66372745 1.66593186 1.66813627\n",
      " 1.67034068 1.67254509 1.6747495  1.67695391 1.67915832 1.68136273\n",
      " 1.68356713 1.68577154 1.68797595 1.69018036 1.69238477 1.69458918\n",
      " 1.69679359 1.698998   1.7012024  1.70340681 1.70561122 1.70781563\n",
      " 1.71002004 1.71222445 1.71442886 1.71663327 1.71883768 1.72104208\n",
      " 1.72324649 1.7254509  1.72765531 1.72985972 1.73206413 1.73426854\n",
      " 1.73647295 1.73867735 1.74088176 1.74308617 1.74529058 1.74749499\n",
      " 1.7496994  1.75190381 1.75410822 1.75631263 1.75851703 1.76072144\n",
      " 1.76292585 1.76513026 1.76733467 1.76953908 1.77174349 1.7739479\n",
      " 1.7761523  1.77835671 1.78056112 1.78276553 1.78496994 1.78717435\n",
      " 1.78937876 1.79158317 1.79378758 1.79599198 1.79819639 1.8004008\n",
      " 1.80260521 1.80480962 1.80701403 1.80921844 1.81142285 1.81362725\n",
      " 1.81583166 1.81803607 1.82024048 1.82244489 1.8246493  1.82685371\n",
      " 1.82905812 1.83126253 1.83346693 1.83567134 1.83787575 1.84008016\n",
      " 1.84228457 1.84448898 1.84669339 1.8488978  1.8511022  1.85330661\n",
      " 1.85551102 1.85771543 1.85991984 1.86212425 1.86432866 1.86653307\n",
      " 1.86873747 1.87094188 1.87314629 1.8753507  1.87755511 1.87975952\n",
      " 1.88196393 1.88416834 1.88637275 1.88857715 1.89078156 1.89298597\n",
      " 1.89519038 1.89739479 1.8995992  1.90180361 1.90400802 1.90621242\n",
      " 1.90841683 1.91062124 1.91282565 1.91503006 1.91723447 1.91943888\n",
      " 1.92164329 1.9238477  1.9260521  1.92825651 1.93046092 1.93266533\n",
      " 1.93486974 1.93707415 1.93927856 1.94148297 1.94368737 1.94589178\n",
      " 1.94809619 1.9503006  1.95250501 1.95470942 1.95691383 1.95911824\n",
      " 1.96132265 1.96352705 1.96573146 1.96793587 1.97014028 1.97234469\n",
      " 1.9745491  1.97675351 1.97895792 1.98116232 1.98336673 1.98557114\n",
      " 1.98777555 1.98997996 1.99218437 1.99438878 1.99659319 1.9987976\n",
      " 2.001002   2.00320641 2.00541082 2.00761523 2.00981964 2.01202405\n",
      " 2.01422846 2.01643287 2.01863727 2.02084168 2.02304609 2.0252505\n",
      " 2.02745491 2.02965932 2.03186373 2.03406814 2.03627255 2.03847695\n",
      " 2.04068136 2.04288577 2.04509018 2.04729459 2.049499   2.05170341\n",
      " 2.05390782 2.05611222 2.05831663 2.06052104 2.06272545 2.06492986\n",
      " 2.06713427 2.06933868 2.07154309 2.07374749 2.0759519  2.07815631\n",
      " 2.08036072 2.08256513 2.08476954 2.08697395 2.08917836 2.09138277\n",
      " 2.09358717 2.09579158 2.09799599 2.1002004  2.10240481 2.10460922\n",
      " 2.10681363 2.10901804 2.11122244 2.11342685 2.11563126 2.11783567\n",
      " 2.12004008 2.12224449 2.1244489  2.12665331 2.12885772 2.13106212\n",
      " 2.13326653 2.13547094 2.13767535 2.13987976 2.14208417 2.14428858\n",
      " 2.14649299 2.14869739 2.1509018  2.15310621 2.15531062 2.15751503\n",
      " 2.15971944 2.16192385 2.16412826 2.16633267 2.16853707 2.17074148\n",
      " 2.17294589 2.1751503  2.17735471 2.17955912 2.18176353 2.18396794\n",
      " 2.18617234 2.18837675 2.19058116 2.19278557 2.19498998 2.19719439\n",
      " 2.1993988  2.20160321 2.20380762 2.20601202 2.20821643 2.21042084\n",
      " 2.21262525 2.21482966 2.21703407 2.21923848 2.22144289 2.22364729\n",
      " 2.2258517  2.22805611 2.23026052 2.23246493 2.23466934 2.23687375\n",
      " 2.23907816 2.24128257 2.24348697 2.24569138 2.24789579 2.2501002\n",
      " 2.25230461 2.25450902 2.25671343 2.25891784 2.26112224 2.26332665\n",
      " 2.26553106 2.26773547 2.26993988 2.27214429 2.2743487  2.27655311\n",
      " 2.27875752 2.28096192 2.28316633 2.28537074 2.28757515 2.28977956\n",
      " 2.29198397 2.29418838 2.29639279 2.29859719 2.3008016  2.30300601\n",
      " 2.30521042 2.30741483 2.30961924 2.31182365 2.31402806 2.31623246\n",
      " 2.31843687 2.32064128 2.32284569 2.3250501  2.32725451 2.32945892\n",
      " 2.33166333 2.33386774 2.33607214 2.33827655 2.34048096 2.34268537\n",
      " 2.34488978 2.34709419 2.3492986  2.35150301 2.35370741 2.35591182\n",
      " 2.35811623 2.36032064 2.36252505 2.36472946 2.36693387 2.36913828\n",
      " 2.37134269 2.37354709 2.3757515  2.37795591 2.38016032 2.38236473\n",
      " 2.38456914 2.38677355 2.38897796 2.39118236 2.39338677 2.39559118\n",
      " 2.39779559 2.4       ]\n"
     ]
    }
   ],
   "source": [
    "print np.linspace(1.3,2.4,int(5e2))"
   ]
  },
  {
   "cell_type": "markdown",
   "metadata": {},
   "source": [
    "ANSWER: The spacing between points in the array np.linspace(1.3,2.4,int(5e2)) is: 0.00220441"
   ]
  },
  {
   "cell_type": "markdown",
   "metadata": {},
   "source": [
    "Problem 4: python prog to sum even numbers between 1 and 99"
   ]
  },
  {
   "cell_type": "code",
   "execution_count": 30,
   "metadata": {},
   "outputs": [],
   "source": [
    "def evenSum(lBound, uBound):\n",
    "    ##sum int's 1<=x<=99\n",
    "    sum = 0\n",
    "    for x in range(lBound,uBound):\n",
    "        if (x%2 == 0): ##check to see if num is even \n",
    "            sum += x \n",
    "    print \"The Sum of the even numbers between \" +str(lBound) + \"-\" +str(uBound)+\" is \" + str(sum)"
   ]
  },
  {
   "cell_type": "code",
   "execution_count": 31,
   "metadata": {},
   "outputs": [
    {
     "name": "stdout",
     "output_type": "stream",
     "text": [
      "The Sum of the even numbers between 1-99 is 2450\n"
     ]
    }
   ],
   "source": [
    "evenSum(1,99)"
   ]
  }
 ],
 "metadata": {
  "kernelspec": {
   "display_name": "Python 2",
   "language": "python",
   "name": "python2"
  },
  "language_info": {
   "codemirror_mode": {
    "name": "ipython",
    "version": 2
   },
   "file_extension": ".py",
   "mimetype": "text/x-python",
   "name": "python",
   "nbconvert_exporter": "python",
   "pygments_lexer": "ipython2",
   "version": "2.7.15"
  }
 },
 "nbformat": 4,
 "nbformat_minor": 2
}
