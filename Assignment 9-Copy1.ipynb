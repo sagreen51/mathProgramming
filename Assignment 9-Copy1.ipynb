{
 "cells": [
  {
   "cell_type": "code",
   "execution_count": 1,
   "metadata": {},
   "outputs": [],
   "source": [
    "import numpy as np\n",
    "import matplotlib.pyplot as plt\n",
    "%matplotlib inline\n",
    "import string\n",
    "import math as math"
   ]
  },
  {
   "cell_type": "markdown",
   "metadata": {},
   "source": [
    "Problem 1 : (10 pts) The equation $$\n",
    "f(x) = \\int_{0}^{x}\\frac{1}{\\sqrt{2\\pi}}e^{-t^{2}/2} dt = .45, \n",
    "$$ can be solved via Newton's Method. Using the Fundamental Theorem of Calculus, we readily get that $$\n",
    "f'(x) = \\frac{1}{\\sqrt{2\\pi}}e^{-x^{2}/2}.\n",
    "$$ Then we just need a way of approximating the integral in order to evaluate $$\n",
    "f(x) - .45.  \n",
    "$$ Use the Trapezoid Method to find the integral and thus the function $f(x)$. Starting from an initial guess $x_{0} = .5$, what is an approximation to the root $x_{\\ast}$ such that $f(x_{\\ast})=.45$? How does your approximation to the root change as you change mesh size of the Trapezoid Method?"
   ]
  },
  {
   "cell_type": "code",
   "execution_count": 2,
   "metadata": {},
   "outputs": [],
   "source": [
    "f = lambda x: (1./np.sqrt(2.*np.pi))*np.exp((-x**2.)/2.)"
   ]
  },
  {
   "cell_type": "code",
   "execution_count": 3,
   "metadata": {},
   "outputs": [],
   "source": [
    "def trapezoidMethod(a,b,N,f):\n",
    "    nint = int(N)\n",
    "    xvals = np.linspace(a,b,nint+1)\n",
    "    fvals = f(xvals)\n",
    "    dx = float((b-a)/N)\n",
    "    return dx/2.*(fvals[0] + fvals[nint] + 2.*np.sum(fvals[1:nint]))"
   ]
  },
  {
   "cell_type": "code",
   "execution_count": 4,
   "metadata": {},
   "outputs": [],
   "source": [
    "def newtonsMethod(f,fp,x0,tol):\n",
    "    k = trapezoidMethod(0,x0,100,f)\n",
    "    x1 = x0 - (k-.45)/f(x0)\n",
    "    \n",
    "    while np.abs(x1-x0):\n",
    "        x0 = x1\n",
    "        k = trapezoidMethod(1,x0,100,f)\n",
    "        x1 = x0 - (k-.45)/f(x0)\n",
    "        \n",
    "    print \"A root of f(x) is: %1.15f\" %x1"
   ]
  },
  {
   "cell_type": "code",
   "execution_count": 5,
   "metadata": {},
   "outputs": [
    {
     "name": "stdout",
     "output_type": "stream",
     "text": [
      "0.4500112695507113\n"
     ]
    }
   ],
   "source": [
    "print trapezoidMethod(0,1.645,100,f)"
   ]
  },
  {
   "cell_type": "code",
   "execution_count": null,
   "metadata": {},
   "outputs": [
    {
     "name": "stderr",
     "output_type": "stream",
     "text": [
      "C:\\Users\\steve\\Anaconda2\\lib\\site-packages\\ipykernel_launcher.py:1: RuntimeWarning: divide by zero encountered in divide\n",
      "  \"\"\"Entry point for launching an IPython kernel.\n",
      "C:\\Users\\steve\\Anaconda2\\lib\\site-packages\\numpy\\core\\function_base.py:133: RuntimeWarning: invalid value encountered in multiply\n",
      "  y *= step\n",
      "C:\\Users\\steve\\Anaconda2\\lib\\site-packages\\ipykernel_launcher.py:1: RuntimeWarning: invalid value encountered in double_scalars\n",
      "  \"\"\"Entry point for launching an IPython kernel.\n"
     ]
    }
   ],
   "source": [
    "newtonsMethod(f,f,.5,1e-6)"
   ]
  },
  {
   "cell_type": "markdown",
   "metadata": {},
   "source": [
    "cannot figure out why i am getting this runtime error and i swore it was good with the explanation you gave to us in class but i will see after "
   ]
  },
  {
   "cell_type": "markdown",
   "metadata": {},
   "source": [
    "Problem 2: (10 pts) A particle of mass $m$ moving through a fluid is subjected to viscous resistance $R(v)$, where $v$ is the particle's velocity. Suppose that relationship between the resistance $R$, velocity $v$, and the time of travel is given by $$\n",
    "t = \\int_{v_{0}}^{v(t)} \\frac{m}{R(u)} du, \n",
    "$$ where $v_{0} = v(0)$ is the intial velocity of the particle. Now suppose that $$\n",
    "R(v) = -R_{\\infty}\\left(\\frac{2}{1 + e^{-v^2/v_{c}^{2}}}-1\\right).\n",
    "$$ For a particle of mass $m=1 ~kg$ (kilograms), with $v_{0}=10 ~m/s$ (meters/second), and $v_{c} = 2 ~m/s$ and $R_{\\infty} = 3 ~kg ~m/s^{2}$, using the Trapezoid Method, find the approximate time necessary for the particle to slow to $v(t) = 5 ~ m/s$."
   ]
  },
  {
   "cell_type": "code",
   "execution_count": 7,
   "metadata": {},
   "outputs": [],
   "source": [
    "f = lambda x: 1./(-3.*((2./(1 + np.exp((-x**2)/4))-1)))"
   ]
  },
  {
   "cell_type": "code",
   "execution_count": 8,
   "metadata": {},
   "outputs": [],
   "source": [
    "def trapezoid_method(a,b,N,f):\n",
    "    nint = int(N)\n",
    "    xvals = np.linspace(a,b,nint+1)\n",
    "    fvals = f(xvals)\n",
    "    dx = (b-a)/N\n",
    "    return dx/2.*(fvals[0] + fvals[nint] + 2.*np.sum(fvals[1:nint]))"
   ]
  },
  {
   "cell_type": "code",
   "execution_count": 9,
   "metadata": {},
   "outputs": [
    {
     "data": {
      "text/plain": [
       "1.669890313352226"
      ]
     },
     "execution_count": 9,
     "metadata": {},
     "output_type": "execute_result"
    }
   ],
   "source": [
    "trapezoid_method(10,5,1,f)"
   ]
  },
  {
   "cell_type": "markdown",
   "metadata": {},
   "source": [
    "\n",
    "Problem 3: 10 pts - Write a program (see the Lecture 8 notes for help) which takes in a number and converts it into its base “b” expansion for up to base 16 (6 pts). In other words, if I give you some number, say x, find the expansion $$\n",
    "x = \\mbox{sgn}(x)\\sum_{j=−m}^{n} t_j b^j, ~0 ≤ t_j ≤ b − 1.\n",
    "$$\n",
    "\n",
    "Briefly explain your reasoning behind you code. (2 pts)\n",
    "\n",
    "Compare the representations of .1 in base 3, 8, and 16. Comment on any interesting patterns that you observe. (2 pts)\n",
    "\n",
    "Note, for bases 11-16, follow hexadecimal conventions, which means instead of using numbers above 9, you use letters in the following fashion: $$\\begin{array}{ccc}\n",
    "10 = A\\\n",
    "11  = B\\\n",
    "12  =  C\\\n",
    "13 = D\\\n",
    "14  = E\\\n",
    "15 = F\n",
    "\\end{array}$$"
   ]
  },
  {
   "cell_type": "code",
   "execution_count": 10,
   "metadata": {},
   "outputs": [],
   "source": [
    "def floatConv(a,b):\n",
    "    \n",
    "    counter = 0\n",
    "    temp = []\n",
    "    \n",
    "    while(counter <= 20):\n",
    "        a *= b\n",
    "        t = math.modf(a)\n",
    "        s = int(t[1])\n",
    "        if(t[1] == 15):\n",
    "            s = 'F'\n",
    "        if(t[1] == 14):\n",
    "            s = 'E'\n",
    "        if(t[1] == 13):\n",
    "            s = 'D'\n",
    "        if(t[1] == 12):\n",
    "            s = 'C'\n",
    "        if(t[1] == 11):\n",
    "            s = 'B'\n",
    "        if(t[1] == 10):\n",
    "            s = 'A'\n",
    "            \n",
    "        counter += 1\n",
    "        temp.append(str(s))\n",
    "        a = a - int(t[1])\n",
    "        \n",
    "    return '.' + ''.join(temp).strip('0')"
   ]
  },
  {
   "cell_type": "code",
   "execution_count": 11,
   "metadata": {},
   "outputs": [],
   "source": [
    "def baseConv(a,b):\n",
    "    \n",
    "    temp = []\n",
    "    t = math.modf(a) \n",
    "    a = int(t[1])\n",
    "    \n",
    "    while a:\n",
    "        a,s = divmod(a,b)\n",
    "        if(s == 15):\n",
    "            s = 'F'\n",
    "        if(s == 14):\n",
    "            s = 'E'\n",
    "        if(s == 13):\n",
    "            s = 'D'\n",
    "        if(s == 12):\n",
    "            s = 'C'\n",
    "        if(s == 11):\n",
    "            s = 'B'\n",
    "        if(s == 10):\n",
    "            s = 'A'\n",
    "            \n",
    "        temp.append(str(s))\n",
    "        \n",
    "    if(t[0] == 0):\n",
    "        return ''.join(reversed(temp))\n",
    "    \n",
    "    else:\n",
    "        return ''.join(reversed(temp)) + floatConv(t[0],b)"
   ]
  },
  {
   "cell_type": "code",
   "execution_count": 12,
   "metadata": {},
   "outputs": [
    {
     "data": {
      "text/plain": [
       "'1111.11010011001100110011'"
      ]
     },
     "execution_count": 12,
     "metadata": {},
     "output_type": "execute_result"
    }
   ],
   "source": [
    "baseConv(15.825,2)"
   ]
  },
  {
   "cell_type": "code",
   "execution_count": null,
   "metadata": {},
   "outputs": [],
   "source": []
  }
 ],
 "metadata": {
  "kernelspec": {
   "display_name": "Python 2",
   "language": "python",
   "name": "python2"
  },
  "language_info": {
   "codemirror_mode": {
    "name": "ipython",
    "version": 2
   },
   "file_extension": ".py",
   "mimetype": "text/x-python",
   "name": "python",
   "nbconvert_exporter": "python",
   "pygments_lexer": "ipython2",
   "version": "2.7.15"
  }
 },
 "nbformat": 4,
 "nbformat_minor": 2
}
