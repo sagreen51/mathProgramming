{
 "cells": [
  {
   "cell_type": "code",
   "execution_count": 1,
   "metadata": {},
   "outputs": [],
   "source": [
    "import numpy as np\n",
    "import math as math\n",
    "import matplotlib.pyplot as plt\n",
    "from time import time\n",
    "from copy import copy\n",
    "%matplotlib inline"
   ]
  },
  {
   "cell_type": "markdown",
   "metadata": {},
   "source": [
    "\n",
    "Problem 1\n",
    "[a] (3 points) Write a code which computes the following sum $$\n",
    "\\sum_{j=0}^\\infty e^{-j}\n",
    "$$\n",
    "\n",
    "using recursion and a tolerance based while loop approach.\n",
    "\n",
    "[b] (2 points) Run your code in Problem 1[a] for tolerance 1e-2, 1e-4, 1e-6 and 1e-8.\n",
    "\n",
    "[c] (3 points) Observe that sum in Problem 1[a] is a geometric series. Using the formula for the sum of a geometric progression, compute $$\n",
    "\\sum_{j=0}^\\infty e^{-j}\n",
    "$$\n",
    "\n",
    "to 9 significant figures.\n",
    "\n",
    "[d] (2 points) Compare your result from Problem 1[b] and [c] and discuss your observation.\n",
    "\n",
    "Answer to 1A)"
   ]
  },
  {
   "cell_type": "code",
   "execution_count": 2,
   "metadata": {},
   "outputs": [],
   "source": [
    "def sumofe(tol):\n",
    "    tot = 1\n",
    "    aj = 1\n",
    "    e1 = 1/np.e\n",
    "    while np.abs(aj) >= tol:\n",
    "        aj *= e1\n",
    "        tot += aj\n",
    "    return tot"
   ]
  },
  {
   "cell_type": "markdown",
   "metadata": {},
   "source": [
    "Answer to 1B)"
   ]
  },
  {
   "cell_type": "code",
   "execution_count": 3,
   "metadata": {},
   "outputs": [
    {
     "data": {
      "text/plain": [
       "1.5780553786637388"
      ]
     },
     "execution_count": 3,
     "metadata": {},
     "output_type": "execute_result"
    }
   ],
   "source": [
    "sumofe(1e-2)"
   ]
  },
  {
   "cell_type": "code",
   "execution_count": 4,
   "metadata": {},
   "outputs": [
    {
     "data": {
      "text/plain": [
       "1.5819502851677112"
      ]
     },
     "execution_count": 4,
     "metadata": {},
     "output_type": "execute_result"
    }
   ],
   "source": [
    "sumofe(1e-4)"
   ]
  },
  {
   "cell_type": "code",
   "execution_count": 5,
   "metadata": {},
   "outputs": [
    {
     "data": {
      "text/plain": [
       "1.5819762229389809"
      ]
     },
     "execution_count": 5,
     "metadata": {},
     "output_type": "execute_result"
    }
   ],
   "source": [
    "sumofe(1e-6)"
   ]
  },
  {
   "cell_type": "code",
   "execution_count": 6,
   "metadata": {},
   "outputs": [
    {
     "data": {
      "text/plain": [
       "1.5819767036086296"
      ]
     },
     "execution_count": 6,
     "metadata": {},
     "output_type": "execute_result"
    }
   ],
   "source": [
    "sumofe(1e-8)"
   ]
  },
  {
   "cell_type": "markdown",
   "metadata": {},
   "source": [
    "Answer to 1C)"
   ]
  },
  {
   "cell_type": "code",
   "execution_count": 7,
   "metadata": {},
   "outputs": [],
   "source": [
    "def sumGeoProg(first,comRatio,numTerms ):\n",
    "    sum = 0\n",
    "    if comRatio == 1:\n",
    "        return\n",
    "    sum = (first * (1- math.pow(comRatio,numTerms)))/(1-1/np.e)\n",
    "    return sum"
   ]
  },
  {
   "cell_type": "code",
   "execution_count": 8,
   "metadata": {},
   "outputs": [
    {
     "data": {
      "text/plain": [
       "1.5817814754338622"
      ]
     },
     "execution_count": 8,
     "metadata": {},
     "output_type": "execute_result"
    }
   ],
   "source": [
    "sumGeoProg(1,1/np.e,9)"
   ]
  },
  {
   "cell_type": "markdown",
   "metadata": {},
   "source": [
    "Answer to 1D)"
   ]
  },
  {
   "cell_type": "markdown",
   "metadata": {},
   "source": [
    "The results from 1[b] w/ a tolerance 1e-4 and up have the same result as 1[c] up to 3 significant digits. Since this is a geometric series we are able to use the sum of a geometric progression which has a comparable result to our functions results using recursion and a tolerance based while loop approach."
   ]
  },
  {
   "cell_type": "markdown",
   "metadata": {},
   "source": [
    "Problem 2\n",
    "\n",
    "[2a] (5 points) Write a code to graph the following function in the interval [-1,4]\n",
    "\n",
    "$$\n",
    "y(x) = \\left\\{\n",
    "\\begin{array}{rl}\n",
    "0  \\quad \\text{for} \\quad x < 0 \\\\\n",
    "x  \\quad \\text{for} \\quad 0\\leq x \\leq 1 \\\\\n",
    "2-x  \\quad \\text{for} \\quad 1 \\lt x \\leq 2 \\\\\n",
    "0  \\quad \\text{for} \\quad x > 2 \n",
    "\\end{array}\n",
    "\\right.\n",
    "$$\n",
    "[2b] (1 point) Create 11 points from -1 to 4 and assign it to x. Using this x value, plot y(x)\n",
    "\n",
    "[2c] (1 point) Create 1e1 points from -1 to 4 and assign it to x. Using this x value, plot y(x)\n",
    "\n",
    "[2d] (1 point) Create 1e5 points from -1 to 4 and assign it to x. Using this x value, plot y(x)\n",
    "\n",
    "[2e] (2 point) Compare your plots for 2[b], [c] and [d]. Discuss your observations.\n",
    "\n",
    "Answer to Problem 2"
   ]
  },
  {
   "cell_type": "markdown",
   "metadata": {},
   "source": [
    "Answer 2A)"
   ]
  },
  {
   "cell_type": "code",
   "execution_count": 9,
   "metadata": {},
   "outputs": [],
   "source": [
    "def function(x):\n",
    "    if (0<=x<=1):\n",
    "        return x\n",
    "    elif (1<x<=2):\n",
    "        return (2-x)\n",
    "    else:\n",
    "        return 0"
   ]
  },
  {
   "cell_type": "markdown",
   "metadata": {},
   "source": [
    "Answer 2B)"
   ]
  },
  {
   "cell_type": "code",
   "execution_count": 10,
   "metadata": {},
   "outputs": [
    {
     "data": {
      "text/plain": [
       "Text(0.5,1,'[-1,4] w/ 11 points')"
      ]
     },
     "execution_count": 10,
     "metadata": {},
     "output_type": "execute_result"
    },
    {
     "data": {
      "image/png": "[encoded data removed]",
      "text/plain": [
       "<Figure size 432x288 with 1 Axes>"
      ]
     },
     "metadata": {
      "needs_background": "light"
     },
     "output_type": "display_data"
    }
   ],
   "source": [
    "xvals = np.linspace(-1,4,11)\n",
    "yvals = [function(x) for x in xvals]\n",
    "plt.plot(xvals,yvals)\n",
    "plt.ylabel('Y')\n",
    "plt.xlabel('X')\n",
    "plt.title('[-1,4] w/ 11 points')"
   ]
  },
  {
   "cell_type": "markdown",
   "metadata": {},
   "source": [
    "Answer 2C)"
   ]
  },
  {
   "cell_type": "code",
   "execution_count": 11,
   "metadata": {},
   "outputs": [
    {
     "data": {
      "text/plain": [
       "Text(0.5,1,'[-1,4] w/ 1e1 points')"
      ]
     },
     "execution_count": 11,
     "metadata": {},
     "output_type": "execute_result"
    },
    {
     "data": {
      "image/png": "[encoded data removed]",
      "text/plain": [
       "<Figure size 432x288 with 1 Axes>"
      ]
     },
     "metadata": {
      "needs_background": "light"
     },
     "output_type": "display_data"
    }
   ],
   "source": [
    "xvals = np.linspace(-1,4,int(1e1))\n",
    "yvals = [function(x) for x in xvals]\n",
    "plt.plot(xvals,yvals)\n",
    "plt.ylabel('Y')\n",
    "plt.xlabel('X')\n",
    "plt.title('[-1,4] w/ 1e1 points')"
   ]
  },
  {
   "cell_type": "markdown",
   "metadata": {},
   "source": [
    "Answer 2D)"
   ]
  },
  {
   "cell_type": "code",
   "execution_count": 12,
   "metadata": {},
   "outputs": [
    {
     "data": {
      "text/plain": [
       "Text(0.5,1,'[-1,4] w/ 1e5 points')"
      ]
     },
     "execution_count": 12,
     "metadata": {},
     "output_type": "execute_result"
    },
    {
     "data": {
      "image/png": "[encoded data removed]",
      "text/plain": [
       "<Figure size 432x288 with 1 Axes>"
      ]
     },
     "metadata": {
      "needs_background": "light"
     },
     "output_type": "display_data"
    }
   ],
   "source": [
    "xvals = np.linspace(-1,4,int(1e5))\n",
    "yvals = [function(x) for x in xvals]\n",
    "plt.plot(xvals,yvals)\n",
    "plt.ylabel('Y')\n",
    "plt.xlabel('X')\n",
    "plt.title('[-1,4] w/ 1e5 points')"
   ]
  },
  {
   "cell_type": "markdown",
   "metadata": {},
   "source": [
    "Answer 2e)"
   ]
  },
  {
   "cell_type": "markdown",
   "metadata": {},
   "source": [
    "The graphs of 2[b] and 2[d] are exactly the same graph. This shows that there was no discrepencry from haveing 11 points in the xvals and having 1e5 points in the xvals. The graph of 2[c] only shows 10 xvals and thus doesnt share the same constant slope of increase and decrease that both 2[b] and 2[d] share."
   ]
  },
  {
   "cell_type": "markdown",
   "metadata": {},
   "source": [
    "Problem 3: Given that\n",
    "\n",
    "$$\n",
    "\\cos(x) = \\sum_{j=0}^{\\infty}\\frac{(-1)^{j}}{(2j)!}x^{2j}, ~ \\sin(x) = \\sum_{j=0}^{\\infty}\\frac{(-1)^{j}}{(2j+1)!}x^{2j+1}\n",
    "$$\n",
    "and\n",
    "\n",
    "$$\n",
    "\\cos(a-b) = \\cos(a)\\cos(b) + \\sin(a)\\sin(b)\n",
    "$$\n",
    "[a] (4 points) Derive a Taylor series for $$\\cos(2x^4)\\cos(x^4) + \\sin(2x^4)\\sin(x^4)$$ around $x=0$.\n",
    "\n",
    "[b] (4 points) Using your answer from Problem 3[a], write a code which computes the Taylor series of $$\\cos(2x^4)\\cos(x^4) + \\sin(2x^4)\\sin(x^4)$$ using recursion, vectorization, and a tolerance based while loop approach.\n",
    "\n",
    "[c] (2 pts) On the interval $[0,\\pi]$, plot the semi-log error in your approximation for tolerance values $10^{-4}$, $10^{-6}$, and $10^{-8}$. Label axes and provide a legend for your graph.\n",
    "\n",
    "[d] (2pts) Describe your graphs and comment on any trends you observe.\n",
    "\n",
    "Answer to Problem 3"
   ]
  },
  {
   "cell_type": "markdown",
   "metadata": {},
   "source": [
    "Answer to 3A)"
   ]
  },
  {
   "cell_type": "markdown",
   "metadata": {},
   "source": [
    "$$\\cos(2x^4)\\cos(x^4) + \\sin(2x^4)\\sin(x^4)$$ "
   ]
  },
  {
   "cell_type": "markdown",
   "metadata": {},
   "source": [
    "$$\\cos(2x^4)\\cos(x^4) + \\sin(2x^4)\\sin(x^4)= cos(2x^4 - x^4)$$"
   ]
  },
  {
   "cell_type": "markdown",
   "metadata": {},
   "source": [
    "$$= cos(2x^4 - x^4) = cos(x^4) = \\sum_{j=0}^{\\infty}\\frac{(-1)^{j}}{(2j)!}x^{8j}$$"
   ]
  },
  {
   "cell_type": "markdown",
   "metadata": {},
   "source": [
    "Answer to 3B)"
   ]
  },
  {
   "cell_type": "code",
   "execution_count": 18,
   "metadata": {},
   "outputs": [],
   "source": [
    "def taylorSum(x,tol):\n",
    "    tot = x**4.\n",
    "    aj = copy(tot)\n",
    "    j =1\n",
    "    xSum = -x**8.\n",
    "    while np.max(np.abs(aj)) >= tol:\n",
    "        aj *= xSum/((2.*j)*(2.*j-1.))\n",
    "        tot +=aj\n",
    "        j+=1\n",
    "    return tot"
   ]
  },
  {
   "cell_type": "markdown",
   "metadata": {},
   "source": [
    "Answer to 3C)"
   ]
  },
  {
   "cell_type": "code",
   "execution_count": 21,
   "metadata": {},
   "outputs": [],
   "source": [
    "xvals = np.linspace(0,np.pi,int(1e2))\n",
    "yvals = [np.cos(ii**4) for ii in xvals]\n",
    "yvals1 = [taylorSum(ii,1e-3) for ii in xvals]\n",
    "yvals2 = [taylorSum(ii,1e-5) for ii in xvals]\n",
    "yvals3 = [taylorSum(ii,1e-7) for ii in xvals]\n",
    "yvals1_vec =  taylorSum(xvals,1e-3)\n",
    "yvals2_vec =  taylorSum(xvals,1e-5)\n",
    "yvals3_vec =  taylorSum(xvals,1e-7)"
   ]
  },
  {
   "cell_type": "code",
   "execution_count": 24,
   "metadata": {},
   "outputs": [
    {
     "data": {
      "text/plain": [
       "[<matplotlib.lines.Line2D at 0x94e8da0>]"
      ]
     },
     "execution_count": 24,
     "metadata": {},
     "output_type": "execute_result"
    },
    {
     "data": {
      "image/png": "[encoded data removed]",
      "text/plain": [
       "<Figure size 432x288 with 1 Axes>"
      ]
     },
     "metadata": {
      "needs_background": "light"
     },
     "output_type": "display_data"
    }
   ],
   "source": [
    "plt.plot(xvals,yvals1_vec,color ='r')\n",
    "plt.plot(xvals,yvals2_vec,color ='g')\n",
    "plt.plot(xvals,yvals3_vec,color ='b')"
   ]
  },
  {
   "cell_type": "markdown",
   "metadata": {},
   "source": [
    "Answer to 3D)\n",
    "\n",
    "The graphs all line up to be the same line overlapping eachother with the same tolerance.\n",
    "\n"
   ]
  },
  {
   "cell_type": "markdown",
   "metadata": {},
   "source": [
    "Problem 4\n",
    "\n",
    "[a] (6 points) - Another very important class of special functions are called the Laguerre Polynomials, say $L_{n}(x)$, which are defined for non-negative integer $n$ via the series\n",
    "\n",
    "$$\n",
    "L_{n}(x) = \\sum_{k=0}^{n}\\frac{n!}{k!(n-k)!}\\frac{(-1)^k}{k!} x^{k}, ~ -2\\leq x \\leq 2.\n",
    "$$\n",
    "Using a for-loop, vectorized, recursive approach, write a function which computes the Laguerre functions for any non-negative integer $n$\n",
    "\n",
    "[b] (3 points). Make a plot showing $L_{n}(x)$ for $n=0,1,2,3,4$ on the same graph, using different colors for each different $n$.\n",
    "\n",
    "[c] (2 points) The plot should have a legend as well as appropriately labeled axes.\n",
    "\n",
    "[d] (3 points) Write down the expression for $L_{0}(x)$ and $L_{1}(x)$ by replacing $n$ with $0$ and $1$ respectively in the equation for $L_{n}(x)$ above. Compare your expression for $L_{0}(x)$ and $L_{1}(x)$ with the graph in Problem 4[b]. Discuss your observations.\n",
    "\n",
    "Answer to 4A)"
   ]
  },
  {
   "cell_type": "code",
   "execution_count": null,
   "metadata": {},
   "outputs": [],
   "source": []
  },
  {
   "cell_type": "markdown",
   "metadata": {},
   "source": [
    "Answer to 4B)"
   ]
  },
  {
   "cell_type": "code",
   "execution_count": null,
   "metadata": {},
   "outputs": [],
   "source": []
  },
  {
   "cell_type": "markdown",
   "metadata": {},
   "source": [
    "Answer to 4C)"
   ]
  },
  {
   "cell_type": "code",
   "execution_count": null,
   "metadata": {},
   "outputs": [],
   "source": []
  },
  {
   "cell_type": "markdown",
   "metadata": {},
   "source": [
    "Answer to 4D)"
   ]
  },
  {
   "cell_type": "code",
   "execution_count": null,
   "metadata": {},
   "outputs": [],
   "source": []
  },
  {
   "cell_type": "markdown",
   "metadata": {},
   "source": [
    "Problem 5: 4 pts- Using a vectorized approach, which means no explicit for loops, write a program which finds\n",
    "\n",
    "$$\n",
    "f(n) = \\frac{1}{n}\\sum_{j=1}^{n} \\left(\\left(\\frac{j}{n}\\right)^{5} + 6\\left(\\frac{j}{n}\\right)^{3} \\right)\n",
    "$$\n",
    "for any positive integer n.\n",
    "\n",
    "Answer to Problem 5"
   ]
  },
  {
   "cell_type": "code",
   "execution_count": 16,
   "metadata": {},
   "outputs": [],
   "source": [
    "def function1(n):\n",
    "    return sum((j/n)**5 + 6* (j/n)**3. for j in xrange(1,int(n)+1))/n"
   ]
  },
  {
   "cell_type": "code",
   "execution_count": 17,
   "metadata": {},
   "outputs": [
    {
     "data": {
      "text/plain": [
       "1.6666701666685813"
      ]
     },
     "execution_count": 17,
     "metadata": {},
     "output_type": "execute_result"
    }
   ],
   "source": [
    "function1(1e6)"
   ]
  }
 ],
 "metadata": {
  "kernelspec": {
   "display_name": "Python 2",
   "language": "python",
   "name": "python2"
  },
  "language_info": {
   "codemirror_mode": {
    "name": "ipython",
    "version": 2
   },
   "file_extension": ".py",
   "mimetype": "text/x-python",
   "name": "python",
   "nbconvert_exporter": "python",
   "pygments_lexer": "ipython2",
   "version": "2.7.15"
  }
 },
 "nbformat": 4,
 "nbformat_minor": 2
}
