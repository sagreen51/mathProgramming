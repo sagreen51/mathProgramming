{
 "cells": [
  {
   "cell_type": "markdown",
   "metadata": {},
   "source": [
    "$$\n",
    "Final\\space Exam:Due\\space Monday,\\space May \\space 13th \\\\\n",
    "Steven \\space Green \\\\\n",
    "817121481 \\\\\n",
    "$$"
   ]
  },
  {
   "cell_type": "code",
   "execution_count": 1,
   "metadata": {},
   "outputs": [],
   "source": [
    "import numpy as np\n",
    "import matplotlib.pyplot as plt\n",
    "import math as math\n",
    "%matplotlib inline"
   ]
  },
  {
   "cell_type": "markdown",
   "metadata": {},
   "source": [
    "Problem 1 (20 pts) There are many methods for finding numerical solutions to differential equations of the form $y'=f(x,y)$, an example is the following formula: $$y_{n+1} = y_n + \\frac{1}{6}(k_1 +2k_2+2k_3+k_4)$$ where $$\\begin{align}\n",
    "k_1 = hf(x_n,y_n)\\\n",
    "k_2 = hf(x_n+ 0.5h,y_n+0.5k_1)\\\n",
    "k_3 =hf(x_n+0.5h,y_n+0.5k_2)\\\n",
    "k_4 = hf(x_n+h,Y_n+k_3)\n",
    "\\end{align}$$\n",
    "\n",
    "You are advised to look carefully at the formula; note that $k_2$ depends on $k_1$, $k_3$ depends on $k_2$, and $k_4$ depends on $k_3$. The program you implement in part (a) will use the formula above to compute the approximate solution of the differential equation $y'=2xy$.\n",
    "\n",
    "(a) The value of $x_n$ for $n=0 \\cdots 5$ is given in the table below:\n",
    "\n"
   ]
  },
  {
   "cell_type": "markdown",
   "metadata": {},
   "source": [
    "x0 | x1 | x2 | x3 | x4 | x5\n",
    "--|--|--|--|--|--\n",
    "1 | 1.1 | 1.2 | 1.3 | 1.4 | 1.5"
   ]
  },
  {
   "cell_type": "markdown",
   "metadata": {},
   "source": [
    "Suppose that $y_0=1$, $h=0.1$, $f(x,y) = 2xy$, write a program to compute the value of $y_n$ for $n=0 \\cdots 5$. Use the formula for $y_{n+1}$ above. Observe that the formula for $y_{n+1}$ is a recursive relation."
   ]
  },
  {
   "cell_type": "code",
   "execution_count": 2,
   "metadata": {},
   "outputs": [],
   "source": [
    "def g(x,y):\n",
    "    return 2.*x*y"
   ]
  },
  {
   "cell_type": "code",
   "execution_count": 3,
   "metadata": {},
   "outputs": [],
   "source": [
    "# present your code for part (a)\n",
    "def recursive(x,y,h):\n",
    "    ##x = 1.\n",
    "    ##y = 1.\n",
    "    ##h = 0.1\n",
    "    xvals = []\n",
    "    yvals = []\n",
    "    i = 0\n",
    "    while x < 1.5:\n",
    "        k1 = h*g(x,y)\n",
    "        k2 = h*g(x+.5*h,y+.5*k1)\n",
    "        k3 = h*g(x + .5*h, y + .5*k2)\n",
    "        k4 = h*g(x+h,y+k3)\n",
    "        print \"The value of x\"+str(i)+\" is:\"+str(x)\n",
    "        print \"The value of y\"+str(i)+\" is:\"+str(y)\n",
    "        print\n",
    "        yvals.append(y)\n",
    "        xvals.append(x)\n",
    "        y = y + 1./6.*(k1+2.*k2+2.*k3+k4)\n",
    "        x +=.1\n",
    "        i +=1\n",
    "    print \"The value of x\"+str(i)+\" is:\"+str(x)\n",
    "    print \"The value of y\"+str(i)+\" is:\"+str(y)\n",
    "    print \n",
    "    xvals.append(x)\n",
    "    yvals.append(y)\n",
    "    print \"The values for yn of n [0,5] is as follows\"\n",
    "    plt.plot(xvals,yvals)\n",
    "    return yvals"
   ]
  },
  {
   "cell_type": "code",
   "execution_count": 4,
   "metadata": {},
   "outputs": [
    {
     "name": "stdout",
     "output_type": "stream",
     "text": [
      "The value of x0 is:1.0\n",
      "The value of y0 is:1.0\n",
      "\n",
      "The value of x1 is:1.1\n",
      "The value of y1 is:1.23367435\n",
      "\n",
      "The value of x2 is:1.2\n",
      "The value of y2 is:1.55269539805\n",
      "\n",
      "The value of x3 is:1.3\n",
      "The value of y3 is:1.99368676935\n",
      "\n",
      "The value of x4 is:1.4\n",
      "The value of y4 is:2.61163323322\n",
      "\n",
      "The value of x5 is:1.5\n",
      "The value of y5 is:3.49021063637\n",
      "\n",
      "The values for yn of n [0,5] is as follows\n"
     ]
    },
    {
     "data": {
      "text/plain": [
       "[1.0,\n",
       " 1.23367435,\n",
       " 1.5526953980477614,\n",
       " 1.9936867693499598,\n",
       " 2.611633233219414,\n",
       " 3.49021063637295]"
      ]
     },
     "execution_count": 4,
     "metadata": {},
     "output_type": "execute_result"
    },
    {
     "data": {
      "image/png": "[encoded data removed]",
      "text/plain": [
       "<Figure size 432x288 with 1 Axes>"
      ]
     },
     "metadata": {
      "needs_background": "light"
     },
     "output_type": "display_data"
    }
   ],
   "source": [
    "recursive(1.,1.,.1)"
   ]
  },
  {
   "cell_type": "markdown",
   "metadata": {},
   "source": [
    "(b) The global truncation error for the formula above is:\n",
    "\n",
    "$$ \\text{error} = Y^{(5)}(c)\\frac{h^5}{5!},$$\n",
    "where $Y(x) = e^{x^2-1}$ is the exact solution of the differential equation $y'=2xy$.\n",
    "\n",
    "Calculate the global truncation error for the method. Use $h=0.1$ and $c=1.5$. Note that $Y^{(5)}$ represents the fifth derivative of $Y(x)$. You must show work to receive credit."
   ]
  },
  {
   "cell_type": "markdown",
   "metadata": {},
   "source": [
    "latex for the fifth derivate of Y(x)"
   ]
  },
  {
   "cell_type": "markdown",
   "metadata": {},
   "source": [
    "$$\n",
    "Y(x) = e^{x^{2}-1}\\\\\n",
    "Y^{(1)}(x) = (2x)e^{x^{2}-1}\\\\\n",
    "Y^{(2)}(x) = (4x^{2}+2)e^{x^{2}-1}\\\\\n",
    "Y^{(3)}(x) = (2x^{2} +3)4xe^{x^{2}-1}\\\\\n",
    "Y^{(4)}(x) = (4x^{4}+12x^{2}+3)4e^{x^{2}-1}\\\\\n",
    "Y^{(5)}(x) = (4x^{4}+20x^{2}+15)8xe^{x^{2}-1}\\\\\n",
    "$$"
   ]
  },
  {
   "cell_type": "code",
   "execution_count": 5,
   "metadata": {},
   "outputs": [
    {
     "name": "stdout",
     "output_type": "stream",
     "text": [
      "The global truncation error for x=1.0 is 3.9000000000000006e-05\n",
      "The global truncation error for x=1.1 is 6.114360135469855e-05\n",
      "The global truncation error for x=1.2 is 9.706482110882044e-05\n",
      "The global truncation error for x=1.3 is 0.0001560914182883183\n",
      "The global truncation error for x=1.4 is 0.0002543608501682393\n",
      "The global truncation error for x=1.5 is 0.0002543608501682393\n",
      "\n",
      "[3.9000000000000006e-05, 6.114360135469855e-05, 9.706482110882044e-05, 0.0001560914182883183, 0.0002543608501682393, 0.0002543608501682393]\n"
     ]
    },
    {
     "data": {
      "text/plain": [
       "Text(0.5,1,'errorVals compared to xvals')"
      ]
     },
     "execution_count": 5,
     "metadata": {},
     "output_type": "execute_result"
    },
    {
     "data": {
      "image/png": "[encoded data removed]",
      "text/plain": [
       "<Figure size 432x288 with 1 Axes>"
      ]
     },
     "metadata": {
      "needs_background": "light"
     },
     "output_type": "display_data"
    }
   ],
   "source": [
    "# present your work for part (b)\n",
    "y = lambda x: (4.*x**4.+20.*x**2.+15.)*8.*x*np.exp((x**2.)-1.)\n",
    "x=1.\n",
    "error =0\n",
    "xvals = []\n",
    "errorVals = []\n",
    "while x < 1.5:\n",
    "    error = y(x)*1.5*.1**5./math.factorial(5)\n",
    "    errorVals.append(error)\n",
    "    xvals.append(x)\n",
    "    print \"The global truncation error for x=\"+ str(x)+\" is \"+str(error)\n",
    "    x +=.1\n",
    "xvals.append(x)\n",
    "errorVals.append(error)\n",
    "print \"The global truncation error for x=\"+ str(x)+\" is \"+str(error)\n",
    "print\n",
    "print errorVals\n",
    "plt.plot(xvals,errorVals)\n",
    "plt.xlabel(\"xvals\")\n",
    "plt.ylabel(\"errorVals\")\n",
    "plt.title(\"errorVals compared to xvals\")"
   ]
  },
  {
   "cell_type": "markdown",
   "metadata": {},
   "source": [
    "(c) Compare the exact solution $Y(x) = e^{x^2-1}$ at $x=x_n$ for $n=0 \\cdots 5$ to your computed solution from part (a) by plotting both on the same graph. Describe your observation(s)."
   ]
  },
  {
   "cell_type": "code",
   "execution_count": 6,
   "metadata": {},
   "outputs": [],
   "source": [
    "def y():\n",
    "    yvals = []\n",
    "    x = 1.\n",
    "    while x <1.6:\n",
    "        y = np.exp((x**2.)-1.)\n",
    "        x+=.1\n",
    "        yvals.append(y)\n",
    "    return yvals"
   ]
  },
  {
   "cell_type": "code",
   "execution_count": 7,
   "metadata": {},
   "outputs": [],
   "source": [
    "def temp2(x,y,h):\n",
    "    ##x = 1.\n",
    "    ##y = 1.\n",
    "    ##h = 0.1\n",
    "    xvals = []\n",
    "    yvals = []\n",
    "    i = 0\n",
    "    while x < 1.5:\n",
    "        k1 = h*g(x,y)\n",
    "        k2 = h*g(x+.5*h,y+.5*k1)\n",
    "        k3 = h*g(x + .5*h, y + .5*k2)\n",
    "        k4 = h*g(x+h,y+k3)\n",
    "        yvals.append(y)\n",
    "        xvals.append(x)\n",
    "        y = y + 1./6.*(k1+2.*k2+2.*k3+k4)\n",
    "        x +=.1\n",
    "        i +=1\n",
    "    xvals.append(x)\n",
    "    yvals.append(y)\n",
    "    return yvals"
   ]
  },
  {
   "cell_type": "code",
   "execution_count": 8,
   "metadata": {},
   "outputs": [
    {
     "data": {
      "text/plain": [
       "Text(0.5,1,'graph to compare recursive and funtion')"
      ]
     },
     "execution_count": 8,
     "metadata": {},
     "output_type": "execute_result"
    },
    {
     "data": {
      "image/png": "[encoded data removed]",
      "text/plain": [
       "<Figure size 432x288 with 1 Axes>"
      ]
     },
     "metadata": {
      "needs_background": "light"
     },
     "output_type": "display_data"
    }
   ],
   "source": [
    "functionYvals = y()\n",
    "xvals = [1.,1.1,1.2,1.3,1.4,1.5]\n",
    "plt.plot(xvals,functionYvals)\n",
    "recursiveYvals = temp2(1.,1.,.1)\n",
    "plt.plot(xvals,recursiveYvals)\n",
    "plt.xlabel(\"xvals\")\n",
    "plt.ylabel(\"yvals\")\n",
    "plt.title(\"graph to compare recursive and funtion\")"
   ]
  },
  {
   "cell_type": "markdown",
   "metadata": {},
   "source": [
    "They are exactly the same and overlap because the function is the exact solution to the recursive function we made just as you said. "
   ]
  },
  {
   "cell_type": "markdown",
   "metadata": {},
   "source": [
    "Problem 2 (20 pts):\n",
    "\n",
    "Let $K$ be the maximum value of $\\left \\lvert f^{(4)}(x)\\right\\rvert$ on an interval $[a,b]$, then the error bound for Simpson method $E_S$ is:\n",
    "\n",
    "$$E_S = \\left\\lvert \\int_a^b f(x) \\ dx - S_n  \\right\\rvert \\leq \\frac{(b-a)^5 K }{180 \\ n^4}$$\n",
    "Let $f(x) = \\cos(x-x^2)$,\n",
    "\n",
    "(a) Write a program to compute the maximum value of $\\left \\lvert f^{(4)}(x)\\right\\rvert$ on an interval $[0,1]$. Note that $f^{(4)}(x)$ represents the fourth derivative of the function $f(x)$."
   ]
  },
  {
   "cell_type": "markdown",
   "metadata": {},
   "source": [
    "Latex for finding the fourth derivative of f(x)"
   ]
  },
  {
   "cell_type": "markdown",
   "metadata": {},
   "source": [
    "$$\n",
    "f(x) = cos(x-x^{2})\\\\\n",
    "f^{1}(x)=(2x-1)sin(x-x^{2})\\\\\n",
    "f^{2}(x)=2sin(x-x^{2})-(1-2x)^{2}cos((x-1)x)\\\\\n",
    "f^{3}(x)=(1-2x)(6cos((x-1)x)-(1-2x)^{2}sin((x-1)x))\\\\\n",
    "f^{4}(x)=(16x^{4}-32x^{3}+24x^{2}-8x-11)cos((x-1)x)+12(1-2x)^{2}sin((x-1)x)\\\\\n",
    "$$"
   ]
  },
  {
   "cell_type": "code",
   "execution_count": 9,
   "metadata": {},
   "outputs": [
    {
     "name": "stdout",
     "output_type": "stream",
     "text": [
      "[11.         11.68745676 12.12011387 12.35058875 12.42717801 12.39335673\n",
      " 12.28748507 12.14267084 11.98674258 11.84229303 11.72675977 11.65251583\n",
      " 11.62694906 11.65251583 11.72675977 11.84229303 11.98674258 12.14267084\n",
      " 12.28748507 12.39335673 12.42717801 12.35058875 12.12011387 11.68745676\n",
      " 11.        ]\n",
      "\n",
      "The Maximum value of the function is:  12.427178006554598\n"
     ]
    }
   ],
   "source": [
    "#present your program for part 2(a)\n",
    "y = lambda x: (16.*x**4.-32.*x**3.+24.*x**2.-8.*x-11.)*np.cos((x-1.)*x)+12.*(1.-2.*x)**2.*np.sin((x-1.)*x)\n",
    "##y = lambda x: -24.*(x**2.)*np.sin(-1.*(x**2.)+x)+24.*x*np.sin(-1.*(x**2.)+x)-12.*np.cos(-1.*(x**2.)+x)+np.cos(-1.*(x**2.)+x)*(-2.*x+1.)**4.-6.*np.sin(-1.*(x**2.)+x)*(-2.*x+1.)**2.-6.*np.sin(-1.*(x**2.)+x)\n",
    "##above is a check for correct solution \n",
    "xvals = np.linspace(0,1,25)\n",
    "yvals = abs(y(xvals))\n",
    "print yvals\n",
    "print \n",
    "print \"The Maximum value of the function is: \",\n",
    "print yvals.max()"
   ]
  },
  {
   "cell_type": "markdown",
   "metadata": {},
   "source": [
    "(b) How large must the value of $n$ be in the approximation $S_n$ of $\\int_0^1 f(x) \\ dx$ by Simpson's rule to ensure that the absolute error is less than $10^{-4}$?"
   ]
  },
  {
   "cell_type": "code",
   "execution_count": 10,
   "metadata": {},
   "outputs": [],
   "source": [
    "#present your work for part 2(b)\n",
    "def Es(n):\n",
    "    temp = ((1.-0.)**5*12.4272)/(180.*n**4.)\n",
    "    ##print abs(temp)\n",
    "    return temp"
   ]
  },
  {
   "cell_type": "code",
   "execution_count": 11,
   "metadata": {},
   "outputs": [
    {
     "name": "stdout",
     "output_type": "stream",
     "text": [
      "\n",
      "n must be at least 2.885 to ensure that the absolute error is less that 10-4\n"
     ]
    }
   ],
   "source": [
    "xvals = np.linspace(2.8,2.9,10)\n",
    "Es(xvals)\n",
    "temp = 2.885\n",
    "Es(temp)\n",
    "print\n",
    "print \"n must be at least \" + str(temp) +\" to ensure that the absolute error is less that 10-4\""
   ]
  },
  {
   "cell_type": "markdown",
   "metadata": {},
   "source": [
    "(c) Write a program to compute the integral using Simpson's method with the value of $n$ obtained in part (b)."
   ]
  },
  {
   "cell_type": "code",
   "execution_count": 12,
   "metadata": {},
   "outputs": [],
   "source": [
    "def f(xvals):\n",
    "    return np.cos(xvals-xvals**2)"
   ]
  },
  {
   "cell_type": "code",
   "execution_count": 13,
   "metadata": {},
   "outputs": [],
   "source": [
    "#present your program for part 2(c)\n",
    "def simpson_method(a,b,N,f):\n",
    "    Nint = int(2*N) # This makes N even incase some one enters an odd value for N\n",
    "    xvals = np.linspace(a,b,Nint+1)\n",
    "    fvals = f(xvals)\n",
    "    dx = float(b-a)/float(Nint)# cast as float to prevent integer division\n",
    "    return dx/3.*(fvals[0] + fvals[Nint] + 2.*np.sum(fvals[2:Nint-1:2]) + 4.*np.sum(fvals[1:Nint:2]))"
   ]
  },
  {
   "cell_type": "code",
   "execution_count": 14,
   "metadata": {},
   "outputs": [
    {
     "data": {
      "text/plain": [
       "0.9833991543114319"
      ]
     },
     "execution_count": 14,
     "metadata": {},
     "output_type": "execute_result"
    }
   ],
   "source": [
    "simpson_method(0,1,12.427178,f)"
   ]
  },
  {
   "cell_type": "code",
   "execution_count": 15,
   "metadata": {},
   "outputs": [
    {
     "data": {
      "text/plain": [
       "0.7851291321743123"
      ]
     },
     "execution_count": 15,
     "metadata": {},
     "output_type": "execute_result"
    }
   ],
   "source": [
    "simpson_method(0,1,2.885,f)"
   ]
  },
  {
   "cell_type": "markdown",
   "metadata": {},
   "source": [
    "(d) Write down the exact solution for $\\int_0^1 f(x) \\ dx$ (you don't need to show work for how you computed the exact solution)."
   ]
  },
  {
   "cell_type": "markdown",
   "metadata": {},
   "source": [
    "Answer\n",
    ".983399"
   ]
  },
  {
   "cell_type": "markdown",
   "metadata": {},
   "source": [
    "(e) Compare the exact solution from part (d) to the computed solution from part (c). Does it agree with you estimates in part (b)?"
   ]
  },
  {
   "cell_type": "markdown",
   "metadata": {},
   "source": [
    "Answer(e):The exact solution from part-d and the computed solution from part-c off by about (.2) this makes sense becaue 2.885 is just the min number to have for an error less than 10-4. (this was simply a benchmark) if you had wanted it to be 10-5 the n value would be higher. If you look above in part b I did the simpsons method with the max value and the error was zero they matched with the exact solution.  "
   ]
  },
  {
   "cell_type": "markdown",
   "metadata": {},
   "source": [
    "Problem 3 (15 pts): Using the Secant Method, for $A>0$,\n",
    "\n",
    "(a)(10 pts) Write a program which finds $A^{1/m}$ for any positive value $m$. Note, you need to choose a function $f(x)$ for the Secant Method whose root is $A^{1/m}$.\n"
   ]
  },
  {
   "cell_type": "code",
   "execution_count": 16,
   "metadata": {},
   "outputs": [
    {
     "data": {
      "text/plain": [
       "6.694329500821695"
      ]
     },
     "execution_count": 16,
     "metadata": {},
     "output_type": "execute_result"
    }
   ],
   "source": [
    "g = lambda A,m: A**(1./m) ## function to find m^th root of A \n",
    "A = 300.\n",
    "m = 3.\n",
    "g(A,m)\n",
    "## this is without using secant method \n",
    "##for testing purposes "
   ]
  },
  {
   "cell_type": "code",
   "execution_count": 17,
   "metadata": {},
   "outputs": [],
   "source": [
    "#present your program for part 3(a)\n",
    "def secant_method_mod(x0,x1,A,m,tol):\n",
    "    f = lambda x,A,m: x**m - A\n",
    "    f0 = f(x0,A,m)\n",
    "    f1 = f(x1,A,m)\n",
    "    x2 = x1 - f1*(x1-x0)/(f1-f0)\n",
    "    \n",
    "    iterCounter = 0\n",
    "    while np.abs(f1) >= tol:\n",
    "        x0 = x1\n",
    "        x1 = x2\n",
    "        f0 = f1\n",
    "        f1 = f(x1,A,m)\n",
    "        x2 = x1 - f1*(x1-x0)/(f1-f0)\n",
    "        iterCounter+=1\n",
    "    \n",
    "    print \"The \"+str(m)+ \" root of \"+ str(A)+ \" is \"+str(x2)\n",
    "    print\n",
    "    print \"iterations:\"+str(iterCounter)\n",
    "    print\n",
    "    return x2,iterCounter"
   ]
  },
  {
   "cell_type": "code",
   "execution_count": 18,
   "metadata": {},
   "outputs": [
    {
     "name": "stdout",
     "output_type": "stream",
     "text": [
      "The 2.0 root of 16.0 is 4.0\n",
      "\n",
      "iterations:6\n",
      "\n"
     ]
    },
    {
     "data": {
      "text/plain": [
       "(4.0, 6)"
      ]
     },
     "execution_count": 18,
     "metadata": {},
     "output_type": "execute_result"
    }
   ],
   "source": [
    "secant_method_mod(1.,6.,16.,2.,1e-5,)"
   ]
  },
  {
   "cell_type": "code",
   "execution_count": 19,
   "metadata": {},
   "outputs": [
    {
     "name": "stdout",
     "output_type": "stream",
     "text": [
      "The 3.0 root of 300.0 is 6.69432950082\n",
      "\n",
      "iterations:6\n",
      "\n"
     ]
    },
    {
     "data": {
      "text/plain": [
       "(6.694329500821695, 6)"
      ]
     },
     "execution_count": 19,
     "metadata": {},
     "output_type": "execute_result"
    }
   ],
   "source": [
    "secant_method_mod(1.,6.,300.,3.,1e-5)"
   ]
  },
  {
   "cell_type": "markdown",
   "metadata": {},
   "source": [
    "(b)(5 pts) How does your choice of $m$ effect how many iterations your program takes to converge for a given tolerance choice? Plots will help me to understand your thinking here."
   ]
  },
  {
   "cell_type": "code",
   "execution_count": 20,
   "metadata": {},
   "outputs": [
    {
     "name": "stdout",
     "output_type": "stream",
     "text": [
      "The 3.0 root of 200.0 is 5.84803547643\n",
      "\n",
      "iterations:5\n",
      "\n"
     ]
    },
    {
     "data": {
      "text/plain": [
       "(5.848035476425732, 5)"
      ]
     },
     "execution_count": 20,
     "metadata": {},
     "output_type": "execute_result"
    }
   ],
   "source": [
    "#present your answer for part 3(b)\n",
    "secant_method_mod(1.,6.,200.,3.,1e-5)"
   ]
  },
  {
   "cell_type": "code",
   "execution_count": 21,
   "metadata": {},
   "outputs": [
    {
     "name": "stdout",
     "output_type": "stream",
     "text": [
      "The 4.0 root of 200.0 is 3.76060309309\n",
      "\n",
      "iterations:11\n",
      "\n"
     ]
    },
    {
     "data": {
      "text/plain": [
       "(3.7606030930865564, 11)"
      ]
     },
     "execution_count": 21,
     "metadata": {},
     "output_type": "execute_result"
    }
   ],
   "source": [
    "secant_method_mod(1.,6.,200.,4.,1e-5)"
   ]
  },
  {
   "cell_type": "code",
   "execution_count": 22,
   "metadata": {},
   "outputs": [
    {
     "name": "stdout",
     "output_type": "stream",
     "text": [
      "The 5.0 root of 200.0 is 2.88539981181\n",
      "\n",
      "iterations:95\n",
      "\n"
     ]
    },
    {
     "data": {
      "text/plain": [
       "(2.8853998118146467, 95)"
      ]
     },
     "execution_count": 22,
     "metadata": {},
     "output_type": "execute_result"
    }
   ],
   "source": [
    "secant_method_mod(1.,6.,200.,5.,1e-5)"
   ]
  },
  {
   "cell_type": "code",
   "execution_count": 23,
   "metadata": {},
   "outputs": [
    {
     "name": "stdout",
     "output_type": "stream",
     "text": [
      "The 3.0 root of 200.0 is 5.8480352569\n",
      "\n",
      "iterations:3\n",
      "\n"
     ]
    },
    {
     "data": {
      "text/plain": [
       "(5.848035256900462, 3)"
      ]
     },
     "execution_count": 23,
     "metadata": {},
     "output_type": "execute_result"
    }
   ],
   "source": [
    "secant_method_mod(1.,6.,200.,3.,1e-1)"
   ]
  },
  {
   "cell_type": "code",
   "execution_count": 24,
   "metadata": {},
   "outputs": [
    {
     "name": "stdout",
     "output_type": "stream",
     "text": [
      "The 4.0 root of 200.0 is 3.76060307531\n",
      "\n",
      "iterations:10\n",
      "\n"
     ]
    },
    {
     "data": {
      "text/plain": [
       "(3.7606030753137722, 10)"
      ]
     },
     "execution_count": 24,
     "metadata": {},
     "output_type": "execute_result"
    }
   ],
   "source": [
    "secant_method_mod(1.,6.,200.,4.,1e-1)"
   ]
  },
  {
   "cell_type": "code",
   "execution_count": 25,
   "metadata": {},
   "outputs": [
    {
     "name": "stdout",
     "output_type": "stream",
     "text": [
      "The 5.0 root of 200.0 is 2.88539979453\n",
      "\n",
      "iterations:94\n",
      "\n"
     ]
    },
    {
     "data": {
      "text/plain": [
       "(2.8853997945273373, 94)"
      ]
     },
     "execution_count": 25,
     "metadata": {},
     "output_type": "execute_result"
    }
   ],
   "source": [
    "secant_method_mod(1.,6.,200.,5.,1e-1)"
   ]
  },
  {
   "cell_type": "markdown",
   "metadata": {},
   "source": [
    "Answer 3b) \n",
    "For a given tolerance as your choice of m increases it will cause more an increase in the amount of iterations. This is shown by the above examples with a tolerance choice of 1e-5 and increasing m from [3-5] also increasing your tolerance(in our case from 1e-5 to 1e-1 leads to an decrease of iterations but also to a less accurate answer)"
   ]
  },
  {
   "cell_type": "code",
   "execution_count": 26,
   "metadata": {},
   "outputs": [
    {
     "name": "stdout",
     "output_type": "stream",
     "text": [
      "The 1.0 root of 200.0 is 200.0\n",
      "\n",
      "iterations:1\n",
      "\n",
      "The 2.0 root of 200.0 is 14.1421356237\n",
      "\n",
      "iterations:7\n",
      "\n",
      "The 3.0 root of 200.0 is 5.84803547643\n",
      "\n",
      "iterations:5\n",
      "\n",
      "The 4.0 root of 200.0 is 3.76060309309\n",
      "\n",
      "iterations:11\n",
      "\n",
      "The 5.0 root of 200.0 is 2.88539981181\n",
      "\n",
      "iterations:95\n",
      "\n"
     ]
    },
    {
     "data": {
      "image/png": "[encoded data removed]",
      "text/plain": [
       "<Figure size 432x288 with 1 Axes>"
      ]
     },
     "metadata": {
      "needs_background": "light"
     },
     "output_type": "display_data"
    }
   ],
   "source": [
    "#make a graph here\n",
    "mvals = [1.,2.,3.,4.,5.]\n",
    "for i in mvals:\n",
    "    xvals,yvals = secant_method_mod(1.,6.,200.,i,1e-5)\n",
    "    plt.plot(xvals,yvals)"
   ]
  },
  {
   "cell_type": "markdown",
   "metadata": {},
   "source": [
    "Problem 4 (15 pts): So, associated with Chebyshev spacing or the Chebyshev nodes are Chebyshev polynomials, which for $-1\\leq x \\leq 1$ are defined to be $T_{n}(x)$ where\n",
    "\n",
    "$$\n",
    "T_{n}(x) = \\cos\\left(n \\cos^{-1}(x) \\right), ~ n=0, 1, ...\n",
    "$$\n",
    "We see that\n",
    "\n",
    "$$\n",
    "T_{0}(x) = 1, ~ T_{1}(x) = x\n",
    "$$\n",
    "Now:\n",
    "\n",
    "(a) (3 pts) Letting $\\theta = \\cos^{-1}(x)$, so that $T_{2}(x)=\\cos(2\\theta)$ and $T_{1}(x) = x = \\cos(\\theta)$, and using\n",
    "\n",
    "$$\n",
    "\\cos(2\\theta) = \\cos^{2}(\\theta) - \\sin^{2}(\\theta), \n",
    "$$\n",
    "and\n",
    "\n",
    "$$\n",
    "\\sin^{2}(\\theta) = 1 - \\cos^{2}(\\theta), \n",
    "$$\n",
    "show that\n",
    "\n",
    "$$\n",
    "T_{2}(x) = 2x^{2} - 1 \n",
    "$$"
   ]
  },
  {
   "cell_type": "markdown",
   "metadata": {},
   "source": [
    "Answer 4a)"
   ]
  },
  {
   "cell_type": "markdown",
   "metadata": {},
   "source": [
    "$$\n",
    "T_{2}(x)=cos(2cos^{-1}(x))\\\\\n",
    "= cos(2\\theta)\\\\\n",
    "=cos^{2}(\\theta)-sin^{2}(\\theta)\\\\\n",
    "=cos^{2}(\\theta)-(1-cos^{2}(\\theta))\\\\\n",
    "=cos^{2}(\\theta)-1+cos^{2}(\\theta)\\\\\n",
    "=2cos^{2}(\\theta)-1\\\\\n",
    "=2(cos(\\theta))^{2}-1\\\\\n",
    "=2(x)^{2}-1\\\\\n",
    "=2x^{2}-1\n",
    "$$"
   ]
  },
  {
   "cell_type": "markdown",
   "metadata": {},
   "source": [
    "(b) (3 pts) Letting $\\theta = \\cos^{-1}(x)$, so that $T_{n}(x)=\\cos(n\\theta)$, and using\n",
    "\n",
    "$$\\begin{align*}\n",
    "T_{n+1}(x) = \\cos((n+1)\\theta) =  \\cos(n\\theta)\\cos(\\theta) - \\sin(n\\theta)\\sin(\\theta)\\\\\n",
    " \\\\\n",
    "\\sin(n\\theta) =  \\sin((n-1)\\theta)\\cos(\\theta) + \\cos((n-1)\\theta)\\sin(\\theta)\\\\\n",
    " \\\\\n",
    "\\sin((n-1)\\theta)\\sin(\\theta) = \\cos((n-1)\\theta)\\cos(\\theta) - \\cos(n\\theta) \n",
    "\\end{align*}$$\n",
    "show that\n",
    "\n",
    "$$\n",
    "T_{n+1}(x) = 2xT_{n}(x) - T_{n-1}(x)\n",
    "$$\n",
    "Using this and a brief induction argument, show that $T_{n}(x)$ is an $n^{th}$-order polynomial."
   ]
  },
  {
   "cell_type": "markdown",
   "metadata": {},
   "source": [
    "Answer 4b)"
   ]
  },
  {
   "cell_type": "markdown",
   "metadata": {},
   "source": [
    "$$\n",
    "T_{n+1} = cos(n\\theta)cos(\\theta) - [sin((n+1)\\theta)cos(\\theta)+cos((n+1)\\theta)sin(\\theta)](sin(\\theta))\\\\\n",
    "=cos(n\\theta)cos(\\theta) -sin((n+1)\\theta)sin(\\theta)cos(\\theta)+cos((n+1)\\theta)sin^{2}(\\theta)\\\\\n",
    "=cos(n\\theta)cos(\\theta) - cos(\\theta)[cos((n+1)\\theta)cos(\\theta)-cos(n\\theta)]-cos((n-1)\\theta)(1-cos^{2}(\\theta))\\\\\n",
    "=cos(n\\theta)cos(\\theta) -cos((n-1)\\theta)cos^{2}(\\theta)+cos(n\\theta)cos(\\theta)-cos((n-1)\\theta)+cos((n-1)\\theta)cos^{2}(\\theta)\\\\\n",
    "=2cos(n\\theta)cos(\\theta)-cos((n-1)\\theta)\\\\\n",
    "=2xT_{n}(x)-T_{n-1}(x)\n",
    "$$"
   ]
  },
  {
   "cell_type": "markdown",
   "metadata": {},
   "source": [
    "(c) (2 pts) Show that the $n+1$ roots of $T_{n+1}(x)$ are given by the Chebyshev nodes\n",
    "\n",
    "$$\n",
    "x_{j} = \\cos\\left(\\pi\\frac{2j+1}{2n+2} \\right),  ~ j=0,\\cdots, n\n",
    "$$\n",
    "Thus, if we use the recurence relation above and the Fundamental Theorem of Algebra, we see that\n",
    "\n",
    "$$\n",
    "T_{n+1}(x) = 2^{n}\\prod_{j=0}^{n}\\left(x - x_{j}\\right).\n",
    "$$\n",
    "Therefore, when we write the Lagrange Interpolating Polynomial, $P_{n}(x)$, which interpolates the data $\\left\\{x_{j}, f_{j}\\right\\}_{j=0}^{n}$, we have that\n",
    "\n",
    "$$\\begin{align}\n",
    "P_{n}(x) =  \\sum_{j=0}^{n} f_{j}L_{j}(x)\\\\\n",
    "=  \\frac{1}{2^{n}}\\sum_{j=0}^{n}\\frac{f_{j}}{c_{j}}\\frac{T_{n+1}(x)}{x-x_{j}}, ~ c_{j} = \\prod_{l=0,l\\neq j}^{n}\\left(x_{j}-x_{l}\\right)\n",
    "\\end{align}$$\n",
    "From this then, we can build an approximation to differentiation using Chebyshev nodes by finding\n",
    "\n",
    "$$\n",
    "\\left.\\frac{dP_{n}}{dx}\\right|_{x=x_{k}} = \\frac{1}{2^{n}}\\sum_{j=0}^{n}\\frac{f_{j}}{c_{j}}\\left.\\frac{d}{dx}\\left(\\frac{T_{n+1}(x)}{x-x_{j}}\\right)\\right|_{x=x_{k}}\n",
    "$$\n",
    "Using some effort (which you do not need to recreate), we then have that\n",
    "\n",
    "$$\n",
    "\\left.\\frac{dP_{n}}{dx}\\right|_{x=x_{k}} = \\frac{(n+1)(-1)^{k}}{2^{n}\\tilde{x}_{k}}\\sum_{j=0}^{n}\\frac{d_{kj}}{c_{j}}f_{j}, \n",
    "$$\n",
    "where\n",
    "\n",
    "$$\n",
    "\\tilde{x}_{k} = \\sin\\left(\\pi \\frac{2k+1}{2n+2} \\right), ~ c_{j} = \\prod_{l=0,l\\neq j}^{n}\\left(x_{j}-x_{l}\\right).\n",
    "$$\n",
    "and\n",
    "\n",
    "$$\n",
    "d_{kj} = \\left\\{\\begin{array}{rl}\n",
    "\\frac{x_{k}}{2(1-x_{k}^{2})}  j = k \\\\\n",
    "\\frac{1}{x_{k}-x_{j}}  j\\neq k\n",
    "\\end{array}\n",
    "\\right.\n",
    "$$\n",
    "Now, for given data $\\left\\{x_{j}, f_{j} \\right\\}_{j=0}^{n}$"
   ]
  },
  {
   "cell_type": "code",
   "execution_count": 27,
   "metadata": {},
   "outputs": [],
   "source": [
    "def lfun(xvals,jj,x):\n",
    "    lval = np.ones(x.size)\n",
    "    # Insert code here\n",
    "    n = xvals.size\n",
    "    for l in xrange(0,n):\n",
    "        if l != jj:\n",
    "            lval *= (x-xvals[l])/float(xvals[jj]-xvals[l])  \n",
    "\n",
    "    return lval"
   ]
  },
  {
   "cell_type": "code",
   "execution_count": 28,
   "metadata": {},
   "outputs": [],
   "source": [
    "def lagran_interp(xvals,fvals,x):\n",
    "    n = fvals.size\n",
    "    # Insert code here \n",
    "    ipoly = np.zeros(x.size)\n",
    "    for jj in xrange(0,n):\n",
    "        ipoly += fvals[jj]*lfun(xvals,jj,x)\n",
    "   \n",
    "    return ipoly"
   ]
  },
  {
   "cell_type": "code",
   "execution_count": 29,
   "metadata": {},
   "outputs": [],
   "source": [
    "def ftrue(x,n):\n",
    "    return np.cos(n*math.acos(x))"
   ]
  },
  {
   "cell_type": "code",
   "execution_count": 30,
   "metadata": {},
   "outputs": [
    {
     "name": "stderr",
     "output_type": "stream",
     "text": [
      "C:\\Users\\steve\\Anaconda2\\lib\\site-packages\\ipykernel_launcher.py:6: RuntimeWarning: divide by zero encountered in log10\n",
      "  \n"
     ]
    },
    {
     "data": {
      "text/plain": [
       "[<matplotlib.lines.Line2D at 0x89b1898>]"
      ]
     },
     "execution_count": 30,
     "metadata": {},
     "output_type": "execute_result"
    },
    {
     "data": {
      "image/png": "[encoded data removed]",
      "text/plain": [
       "<Figure size 432x288 with 1 Axes>"
      ]
     },
     "metadata": {
      "needs_background": "light"
     },
     "output_type": "display_data"
    }
   ],
   "source": [
    "xinterp = np.linspace(-1.,1.,int(1e3))\n",
    "ftrue = 1./(1.+xinterp**2.)\n",
    "xvals = xinterp[::100]\n",
    "fvals = ftrue[::100]\n",
    "finterp = lagran_interp(xvals,fvals,xinterp)\n",
    "plt.plot(xinterp,np.log10(np.abs(ftrue-finterp)),ls='-',color='k')"
   ]
  },
  {
   "cell_type": "code",
   "execution_count": 31,
   "metadata": {},
   "outputs": [
    {
     "name": "stderr",
     "output_type": "stream",
     "text": [
      "C:\\Users\\steve\\Anaconda2\\lib\\site-packages\\ipykernel_launcher.py:4: RuntimeWarning: divide by zero encountered in log10\n",
      "  after removing the cwd from sys.path.\n"
     ]
    },
    {
     "data": {
      "text/plain": [
       "[<matplotlib.lines.Line2D at 0x8243710>]"
      ]
     },
     "execution_count": 31,
     "metadata": {},
     "output_type": "execute_result"
    },
    {
     "data": {
      "image/png": "[encoded data removed]",
      "text/plain": [
       "<Figure size 432x288 with 1 Axes>"
      ]
     },
     "metadata": {
      "needs_background": "light"
     },
     "output_type": "display_data"
    }
   ],
   "source": [
    "xvals = xinterp[::50]\n",
    "fvals = ftrue[::50]\n",
    "finterp = lagran_interp(xvals,fvals,xinterp)\n",
    "plt.plot(xinterp,np.log10(np.abs(ftrue-finterp)),ls='-',color='k')"
   ]
  },
  {
   "cell_type": "code",
   "execution_count": 32,
   "metadata": {},
   "outputs": [
    {
     "name": "stderr",
     "output_type": "stream",
     "text": [
      "C:\\Users\\steve\\Anaconda2\\lib\\site-packages\\ipykernel_launcher.py:5: RuntimeWarning: divide by zero encountered in log10\n",
      "  \"\"\"\n"
     ]
    },
    {
     "data": {
      "text/plain": [
       "[<matplotlib.lines.Line2D at 0x88fe5c0>]"
      ]
     },
     "execution_count": 32,
     "metadata": {},
     "output_type": "execute_result"
    },
    {
     "data": {
      "image/png": "[encoded data removed]",
      "text/plain": [
       "<Figure size 432x288 with 1 Axes>"
      ]
     },
     "metadata": {
      "needs_background": "light"
     },
     "output_type": "display_data"
    }
   ],
   "source": [
    "xvals = xinterp[::25]\n",
    "fvals = ftrue[::25]\n",
    " \n",
    "finterp = lagran_interp(xvals,fvals,xinterp)\n",
    "plt.plot(xinterp,np.log10(np.abs(ftrue-finterp)),ls='-',color='k')"
   ]
  },
  {
   "cell_type": "code",
   "execution_count": 33,
   "metadata": {},
   "outputs": [
    {
     "name": "stderr",
     "output_type": "stream",
     "text": [
      "C:\\Users\\steve\\Anaconda2\\lib\\site-packages\\ipykernel_launcher.py:4: RuntimeWarning: divide by zero encountered in log10\n",
      "  after removing the cwd from sys.path.\n"
     ]
    },
    {
     "data": {
      "text/plain": [
       "[<matplotlib.lines.Line2D at 0x9045278>]"
      ]
     },
     "execution_count": 33,
     "metadata": {},
     "output_type": "execute_result"
    },
    {
     "data": {
      "image/png": "[encoded data removed]",
      "text/plain": [
       "<Figure size 432x288 with 1 Axes>"
      ]
     },
     "metadata": {
      "needs_background": "light"
     },
     "output_type": "display_data"
    }
   ],
   "source": [
    "xvals = xinterp[::5]\n",
    "fvals = ftrue[::5]\n",
    "finterp = lagran_interp(xvals,fvals,xinterp)\n",
    "plt.plot(xinterp,np.log10(np.abs(ftrue-finterp)),ls='-',color='k')"
   ]
  },
  {
   "cell_type": "code",
   "execution_count": 34,
   "metadata": {},
   "outputs": [
    {
     "name": "stderr",
     "output_type": "stream",
     "text": [
      "C:\\Users\\steve\\Anaconda2\\lib\\site-packages\\ipykernel_launcher.py:7: RuntimeWarning: divide by zero encountered in log10\n",
      "  import sys\n"
     ]
    },
    {
     "data": {
      "text/plain": [
       "[<matplotlib.lines.Line2D at 0x914e400>]"
      ]
     },
     "execution_count": 34,
     "metadata": {},
     "output_type": "execute_result"
    },
    {
     "data": {
      "image/png": "[encoded data removed]",
      "text/plain": [
       "<Figure size 432x288 with 1 Axes>"
      ]
     },
     "metadata": {
      "needs_background": "light"
     },
     "output_type": "display_data"
    }
   ],
   "source": [
    "ncheb = 40\n",
    "xcheb=np.zeros(ncheb+1)\n",
    "for jj in xrange(0,ncheb+1):\n",
    "    xcheb[jj] = np.cos((2.*jj+1.)/(2.*ncheb+2.)*np.pi)\n",
    "fcheb = 1./(1.+xcheb**2.)\n",
    "finterp = lagran_interp(xcheb,fcheb,xinterp)\n",
    "plt.plot(xinterp,np.log10(np.abs(ftrue-finterp)),ls='-',color='k')"
   ]
  },
  {
   "cell_type": "code",
   "execution_count": 35,
   "metadata": {},
   "outputs": [
    {
     "data": {
      "text/plain": [
       "Text(0,0.5,'$P_{n}(x)$')"
      ]
     },
     "execution_count": 35,
     "metadata": {},
     "output_type": "execute_result"
    },
    {
     "data": {
      "image/png": "[encoded data removed]",
      "text/plain": [
       "<Figure size 432x288 with 1 Axes>"
      ]
     },
     "metadata": {
      "needs_background": "light"
     },
     "output_type": "display_data"
    }
   ],
   "source": [
    "xinterp = np.linspace(-1.,1.,int(1e2))\n",
    "ivals = lagran_interp(xcheb,fcheb,xinterp)\n",
    "plt.plot(xinterp,ivals,color='k')\n",
    "plt.plot(xcheb,fcheb,'*')\n",
    "plt.xlabel('$x$')\n",
    "plt.ylabel('$P_{n}(x)$')"
   ]
  },
  {
   "cell_type": "code",
   "execution_count": null,
   "metadata": {},
   "outputs": [],
   "source": []
  },
  {
   "cell_type": "markdown",
   "metadata": {},
   "source": [
    "(d) (4 pts) Write a program which implements the above approximation for $f'(x)$ over the Chebyshev nodes. Note, you may want to try to store the necessary information in a matrix and then use matrix-vector multiplication to compute your result. Otherwise, just use nested for loops."
   ]
  },
  {
   "cell_type": "code",
   "execution_count": null,
   "metadata": {},
   "outputs": [],
   "source": []
  }
 ],
 "metadata": {
  "kernelspec": {
   "display_name": "Python 2",
   "language": "python",
   "name": "python2"
  },
  "language_info": {
   "codemirror_mode": {
    "name": "ipython",
    "version": 2
   },
   "file_extension": ".py",
   "mimetype": "text/x-python",
   "name": "python",
   "nbconvert_exporter": "python",
   "pygments_lexer": "ipython2",
   "version": "2.7.16"
  }
 },
 "nbformat": 4,
 "nbformat_minor": 2
}
