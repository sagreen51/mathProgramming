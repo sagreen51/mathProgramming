{
 "cells": [
  {
   "cell_type": "code",
   "execution_count": 1,
   "metadata": {},
   "outputs": [],
   "source": [
    "import numpy as np\n",
    "import sys\n",
    "import matplotlib.pyplot as plt\n",
    "%matplotlib inline\n",
    "import scipy.integrate as spqd\n",
    "import math as math\n",
    "import string"
   ]
  },
  {
   "cell_type": "markdown",
   "metadata": {},
   "source": [
    "Problem 1 : 15pts - Given the function\n",
    "\n",
    "$$\n",
    "y(x) = \\sin^{3}(x),\n",
    "$$\n",
    "1a) 6pts - Use\n",
    "\n",
    "$$\n",
    "\\sin^{2}(x) = \\frac{1 - \\cos(2x)}{2},\n",
    "$$\n",
    "since $\\sin^{3}(x) = \\sin(x)\\sin^{2}(x)$, and\n",
    "\n",
    "$$\n",
    "\\sin(x)\\cos(2x) = \\frac{1}{2}\\left(\\sin(3x) - \\sin(x)\\right)\n",
    "$$\n",
    "to find a Taylor series around $x_{0}=0$ of $\\sin^{3}(x)$.\n",
    "\n",
    "Answer 1a)\n"
   ]
  },
  {
   "cell_type": "markdown",
   "metadata": {},
   "source": [
    "$$\\begin{align}\n",
    "\\sin^{3}(x) =  \\sin(x)\\sin^{2}(x)\\\\\n",
    "=\\frac{1}{2}\\sin(x)(1 - \\cos(2x)\\\\\n",
    "=\\frac{1}{2}\\sin(x) - \\sin(x)\\cos(2x)\\\\\n",
    "= \\frac{1}{2}\\sin(x) - \\frac{1}{2}(\\sin(3x) - \\sin(x))\\\\\n",
    "= \\frac{\\sin(x)}{2} - \\frac{\\sin(3x)}{4} + \\frac{\\sin(x)}{4} \\\\\n",
    "= \\frac{3}{4}\\sin(x) -\\frac{1}{4}\\sin(3x)\\\\\n",
    "= \\frac{3}{4}\\sum_{j = 0}^{\\infty}\\frac{((-1)^{j}x^{2j+1})}{2j+1!}\n",
    "- \\frac{1}{4}\\sum_{j = 0}^{\\infty}\\frac{((-1)^{j}(3x)^{2j+1})}{2j+1!}\\\\\n",
    "= \\frac{1}{4}\\sum_{j = 0}^{\\infty}\\frac{((-1)^{j}x^{2j+1})}{2j+1!}(3 - 3^{2j+1})\\\\\n",
    "\\end{align}$$\n"
   ]
  },
  {
   "cell_type": "markdown",
   "metadata": {},
   "source": [
    "1b) 6pts - In Python, develop a tolerance based, recursive, vectorized implementation of this function.\n",
    "\n",
    "Answer 1b)"
   ]
  },
  {
   "cell_type": "code",
   "execution_count": 2,
   "metadata": {},
   "outputs": [],
   "source": [
    "def taylorSin(x,tol):\n",
    "    tot = 1.\n",
    "    aj = 1.\n",
    "    x2 = -x**2\n",
    "    j =1\n",
    "    while np.max(np.abs(aj)) >= tol:\n",
    "        aj *= x2/((2*j+1)*(2*j))\n",
    "        tot += aj\n",
    "        j +=1\n",
    "    return tot"
   ]
  },
  {
   "cell_type": "markdown",
   "metadata": {},
   "source": [
    "\n",
    "1c) 3pts - Plot this function on the interval [0,𝜋]. Provide log plots of the error in your approximation for tolerance values 10−2, 10−4, and 10−8. Comment on the behavior of your approximations for increasing values of 𝑥 and for decreasing tolerances. Note graphs should be well labeled, with legends, and well sized.\n",
    "\n",
    "Answer 1c)"
   ]
  },
  {
   "cell_type": "code",
   "execution_count": 3,
   "metadata": {},
   "outputs": [
    {
     "data": {
      "text/plain": [
       "Text(0.5,1,'taySinFunction')"
      ]
     },
     "execution_count": 3,
     "metadata": {},
     "output_type": "execute_result"
    },
    {
     "data": {
      "image/png": "[encoded data removed]",
      "text/plain": [
       "<Figure size 432x288 with 1 Axes>"
      ]
     },
     "metadata": {
      "needs_background": "light"
     },
     "output_type": "display_data"
    }
   ],
   "source": [
    "xvals = np.linspace(0,math.pi,int(1e3))\n",
    "yvals1 = taylorSin(xvals,1e-3)\n",
    "yvals2 = taylorSin(xvals,1e-5)\n",
    "yvals3 = taylorSin(xvals,1e-9)\n",
    "plt.plot(xvals,yvals1,color = 'r')\n",
    "plt.plot(xvals,yvals2,color = 'g')\n",
    "plt.plot(xvals,yvals3,color = 'b', ls = '--')\n",
    "plt.ylabel('sin^3x')\n",
    "plt.xlabel('pie')\n",
    "plt.title('taySinFunction')"
   ]
  },
  {
   "cell_type": "markdown",
   "metadata": {},
   "source": [
    "Problem 2 : 8pts - Find the first 40 terms of a sequence defined by\n",
    "\n",
    "2a) 6pts\n",
    "\n",
    "$$\n",
    "a_{n+1} = \\left\\{\n",
    "\\begin{array}{rl}\n",
    "\\frac{1}{2} a_{n}       (\\text{if} ~ a_{n} ~ \\text{is an even number}) \\\\\n",
    "3a_{n} + 1       (\\text{if} ~ a_{n} ~ \\text{is an odd number})\n",
    "\\end{array}\n",
    "\\right.\n",
    "$$\n",
    "and $a_1 = 11$\n",
    "\n",
    "Answer 2a)"
   ]
  },
  {
   "cell_type": "code",
   "execution_count": 4,
   "metadata": {},
   "outputs": [],
   "source": [
    "def sequence(firstTerm,numTerms):\n",
    "    a = []\n",
    "    a.append(firstTerm)\n",
    "    for i in range (1,40):\n",
    "        if a[i-1] % 2 ==0:\n",
    "            a.append(a[i-1]/2)\n",
    "        else:\n",
    "            a.append(3*a[i-1]+1)\n",
    "    return a"
   ]
  },
  {
   "cell_type": "code",
   "execution_count": 5,
   "metadata": {},
   "outputs": [
    {
     "data": {
      "text/plain": [
       "[11,\n",
       " 34,\n",
       " 17,\n",
       " 52,\n",
       " 26,\n",
       " 13,\n",
       " 40,\n",
       " 20,\n",
       " 10,\n",
       " 5,\n",
       " 16,\n",
       " 8,\n",
       " 4,\n",
       " 2,\n",
       " 1,\n",
       " 4,\n",
       " 2,\n",
       " 1,\n",
       " 4,\n",
       " 2,\n",
       " 1,\n",
       " 4,\n",
       " 2,\n",
       " 1,\n",
       " 4,\n",
       " 2,\n",
       " 1,\n",
       " 4,\n",
       " 2,\n",
       " 1,\n",
       " 4,\n",
       " 2,\n",
       " 1,\n",
       " 4,\n",
       " 2,\n",
       " 1,\n",
       " 4,\n",
       " 2,\n",
       " 1,\n",
       " 4]"
      ]
     },
     "execution_count": 5,
     "metadata": {},
     "output_type": "execute_result"
    }
   ],
   "source": [
    "sequence(11,40)"
   ]
  },
  {
   "cell_type": "markdown",
   "metadata": {},
   "source": [
    "2b) 2pts\n",
    "\n",
    "Do the same for $a_1 = 25$. Make a conjecture about this type of sequence.\n",
    "\n",
    "Answer 2b)"
   ]
  },
  {
   "cell_type": "code",
   "execution_count": 6,
   "metadata": {},
   "outputs": [
    {
     "data": {
      "text/plain": [
       "[25,\n",
       " 76,\n",
       " 38,\n",
       " 19,\n",
       " 58,\n",
       " 29,\n",
       " 88,\n",
       " 44,\n",
       " 22,\n",
       " 11,\n",
       " 34,\n",
       " 17,\n",
       " 52,\n",
       " 26,\n",
       " 13,\n",
       " 40,\n",
       " 20,\n",
       " 10,\n",
       " 5,\n",
       " 16,\n",
       " 8,\n",
       " 4,\n",
       " 2,\n",
       " 1,\n",
       " 4,\n",
       " 2,\n",
       " 1,\n",
       " 4,\n",
       " 2,\n",
       " 1,\n",
       " 4,\n",
       " 2,\n",
       " 1,\n",
       " 4,\n",
       " 2,\n",
       " 1,\n",
       " 4,\n",
       " 2,\n",
       " 1,\n",
       " 4]"
      ]
     },
     "execution_count": 6,
     "metadata": {},
     "output_type": "execute_result"
    }
   ],
   "source": [
    "sequence(25,40)"
   ]
  },
  {
   "cell_type": "markdown",
   "metadata": {},
   "source": [
    "Conjecture: The numbers will fluctuate for a while then on the ninth term it hits 11 which then repeate the sequence as above. The numbers continue to flucuate but never the less make it to a repeating patter of 4,2,1. This pattern will continue till it fills up the remaining number of terms that you predetermined."
   ]
  },
  {
   "cell_type": "markdown",
   "metadata": {},
   "source": [
    "Problem 3 : 12pts - Given the following sum\n",
    "\n",
    "$$\n",
    "y(n) =  \\sum_{n=0}^{\\infty} \\frac{(-1)^{n}\\pi^{2n+1}}{4^{2n+1}(2n+1)!}\n",
    "$$\n",
    "3a) 3pts - Determine a recurrence relation between the coefficients.\n",
    "\n",
    "Answer 3a)"
   ]
  },
  {
   "cell_type": "markdown",
   "metadata": {},
   "source": [
    "$$\n",
    "a_{j}(n) = \\frac{-\\pi^{2}}{32n(2n+1)} (j\\geq 1)\\\\\n",
    "1 (j=0)\\\\\n",
    "$$"
   ]
  },
  {
   "cell_type": "markdown",
   "metadata": {},
   "source": [
    "i tried to do that bracket but took to long sorry "
   ]
  },
  {
   "cell_type": "markdown",
   "metadata": {},
   "source": [
    "3b) 5pts - In Python, develop a tolerance based, recursive, vectorized implementation of this sum and find the limit as $n\\rightarrow \\infty$ of the function $y(n)$. Provide a plot to support your answer (for tolerance $10^{-4}$ and $10^{-8}$).\n",
    "\n",
    "Answer 3b)"
   ]
  },
  {
   "cell_type": "code",
   "execution_count": 7,
   "metadata": {},
   "outputs": [],
   "source": [
    "def y(n,tol):\n",
    "    tot = 1.\n",
    "    aj = 1.\n",
    "    pi2 = -(math.pi)**2\n",
    "    j =1\n",
    "    while np.max(np.abs(aj)) >= tol:\n",
    "        aj *= pi2/ (32*n*(2*n) +1)\n",
    "        tot += aj\n",
    "        n +=1\n",
    "    return tot"
   ]
  },
  {
   "cell_type": "code",
   "execution_count": 21,
   "metadata": {},
   "outputs": [
    {
     "data": {
      "text/plain": [
       "Text(0.5,1,'recurrence relation')"
      ]
     },
     "execution_count": 21,
     "metadata": {},
     "output_type": "execute_result"
    },
    {
     "data": {
      "image/png": "[encoded data removed]",
      "text/plain": [
       "<Figure size 432x288 with 1 Axes>"
      ]
     },
     "metadata": {
      "needs_background": "light"
     },
     "output_type": "display_data"
    }
   ],
   "source": [
    "xvals = np.linspace(1,50,49)\n",
    "yvals1 = y(xvals,1e-5)\n",
    "yvals2 = y(xvals,1e-9)\n",
    "##yvals1 = (y(ii,1e-5)for ii in xvals)\n",
    "plt.plot(xvals,yvals1,color = 'r')\n",
    "plt.plot(xvals,yvals2,color = 'g')\n",
    "plt.ylabel('yvals')\n",
    "plt.xlabel('xvals')\n",
    "plt.title('recurrence relation')"
   ]
  },
  {
   "cell_type": "markdown",
   "metadata": {},
   "source": [
    "3d) 4pts - For the recurrence relation\n",
    "\n",
    "$$\n",
    "p_{n} = 3p_{n-1} + p_{n-2}, ~ n\\geq 2, \n",
    "$$\n",
    "where\n",
    "\n",
    "$$\n",
    "p_{0}= 0, ~ p_{1}=1, \n",
    "$$\n",
    "plot $p_{n}$ for $0\\leq n \\leq 15$?\n",
    "\n",
    "Answer 3d)"
   ]
  },
  {
   "cell_type": "code",
   "execution_count": 9,
   "metadata": {},
   "outputs": [
    {
     "data": {
      "text/plain": [
       "Text(0.5,1,'recurrence relation')"
      ]
     },
     "execution_count": 9,
     "metadata": {},
     "output_type": "execute_result"
    },
    {
     "data": {
      "image/png": "[encoded data removed]",
      "text/plain": [
       "<Figure size 432x288 with 1 Axes>"
      ]
     },
     "metadata": {
      "needs_background": "light"
     },
     "output_type": "display_data"
    }
   ],
   "source": [
    "xvals = np.linspace(0,15,16)\n",
    "yvals = [] \n",
    "for i in range(0,16):\n",
    "    if i == 0:\n",
    "        yvals.append(0)\n",
    "    elif i == 1:\n",
    "        yvals.append(1)\n",
    "    else:\n",
    "        yvals.append(3*(yvals[i-1])+yvals[i-2])\n",
    "plt.plot(xvals,yvals)\n",
    "plt.ylabel('xvals')\n",
    "plt.xlabel('yvals')\n",
    "plt.title('recurrence relation')"
   ]
  },
  {
   "cell_type": "markdown",
   "metadata": {},
   "source": [
    "Problem 4 9pts:\n",
    "\n",
    "4a) 4pts - Write a Python program to find the number $n$ that satisfies $$\n",
    " \\sum_{i=1}^{n} i = 78\n",
    "$$\n",
    "Answer 4A)"
   ]
  },
  {
   "cell_type": "code",
   "execution_count": 10,
   "metadata": {},
   "outputs": [
    {
     "name": "stdout",
     "output_type": "stream",
     "text": [
      "The numnber n that satisfies the sequence is 12\n"
     ]
    }
   ],
   "source": [
    "i = 0\n",
    "for n in range(1,20):\n",
    "    if i == 78:\n",
    "        print \"The numnber n that satisfies the sequence is\",\n",
    "        print n -1\n",
    "    i +=n"
   ]
  },
  {
   "cell_type": "markdown",
   "metadata": {},
   "source": [
    "4b) 5pts - Using a non-vectorization, find the limit as $n\\rightarrow \\infty$ of the function $f(n)$ where\n",
    "\n",
    "$$\n",
    "f(n) = \\sum_{j=1}^{n} \\frac{3}{n} \\left[ \\left(1 + \\frac{3j}{n}\\right)^{3} - 2\\left(1 + \\frac{3j}{n}\\right) \\right]\n",
    "$$\n",
    "Provide a plot to support your answer.\n",
    "\n",
    "Answer 4B)"
   ]
  },
  {
   "cell_type": "code",
   "execution_count": 11,
   "metadata": {},
   "outputs": [],
   "source": [
    "def func(n):\n",
    "    return sum((3./n)* (1.+(3.*i/n))**3-2.*(1.+(3.*i/n)) for i in range(1,int(n)+1))/n"
   ]
  },
  {
   "cell_type": "code",
   "execution_count": 12,
   "metadata": {},
   "outputs": [
    {
     "data": {
      "text/plain": [
       "Text(0.5,1,'sumSequence')"
      ]
     },
     "execution_count": 12,
     "metadata": {},
     "output_type": "execute_result"
    },
    {
     "data": {
      "image/png": "[encoded data removed]",
      "text/plain": [
       "<Figure size 432x288 with 1 Axes>"
      ]
     },
     "metadata": {
      "needs_background": "light"
     },
     "output_type": "display_data"
    }
   ],
   "source": [
    "xvals = np.linspace(1.,100.,int(1e4))\n",
    "yvals = [func(xval) for xval in xvals]\n",
    "plt.plot(xvals,yvals)\n",
    "plt.ylabel('yvals')\n",
    "plt.xlabel('xvals')\n",
    "plt.title('sumSequence')"
   ]
  },
  {
   "cell_type": "markdown",
   "metadata": {},
   "source": [
    "Problem 5 6pts: We can generate a 3n+1 sequence as follows\n",
    "\n",
    "Start with a positive integer n.\n",
    "\n",
    "If n = 1, stop.\n",
    "\n",
    "If n is even, replace it with n/2.\n",
    "\n",
    "If n is odd, replace it with 3n+1.\n",
    "\n",
    "So if we started with $n=3$, then we would generate the sequence\n",
    "\n",
    "$$\n",
    "3, 10, 5, 16, 8, 4, 2, 1\n",
    "$$\n",
    "it is unknown whether there are any starting values $n$ which generate a sequence which goes on for forever. Thus, an interesting associated quantity we would want to know is how many terms a given value of $n$ generates via the $3n+1$ sequence. We call this number $L(n)$. For example then, using our example of $n=3$ above, we have that\n",
    "\n",
    "$$\n",
    "L(3)  = 8\n",
    "$$\n",
    "Write a code to figure out how to find $L(n)$ and then generate a plot of $L(n)$ for $1\\leq n \\leq 1000$. Discuss any trends you observe."
   ]
  },
  {
   "cell_type": "code",
   "execution_count": 13,
   "metadata": {},
   "outputs": [],
   "source": [
    "def L(n):\n",
    "    A = []\n",
    "    count =0\n",
    "    if n < 1 or n > 1000:\n",
    "        return \"not between 1 and 1000\"\n",
    "    if n == 1: \n",
    "        A.append(1)\n",
    "        count = 1.\n",
    "        return count\n",
    "    while n != 1:\n",
    "        if n % 2 == 0:\n",
    "            n /=2\n",
    "        else:\n",
    "            n= 3*n +1\n",
    "        A.append(n)\n",
    "        count +=1.\n",
    "    return count\n"
   ]
  },
  {
   "cell_type": "code",
   "execution_count": 14,
   "metadata": {},
   "outputs": [
    {
     "data": {
      "text/plain": [
       "Text(0.5,1,'3n+1 sequence')"
      ]
     },
     "execution_count": 14,
     "metadata": {},
     "output_type": "execute_result"
    },
    {
     "data": {
      "image/png": "[encoded data removed]",
      "text/plain": [
       "<Figure size 432x288 with 1 Axes>"
      ]
     },
     "metadata": {
      "needs_background": "light"
     },
     "output_type": "display_data"
    }
   ],
   "source": [
    "yvals =[]\n",
    "xvals = []\n",
    "n = 1000\n",
    "for j in range (1,n+1):\n",
    "    xvals.append(j)\n",
    "    yvals.append(L(j))\n",
    "plt.plot(xvals,yvals)\n",
    "plt.ylabel('yvals')\n",
    "plt.xlabel('xvals')\n",
    "plt.title('3n+1 sequence')"
   ]
  },
  {
   "cell_type": "code",
   "execution_count": null,
   "metadata": {},
   "outputs": [],
   "source": []
  }
 ],
 "metadata": {
  "kernelspec": {
   "display_name": "Python 2",
   "language": "python",
   "name": "python2"
  },
  "language_info": {
   "codemirror_mode": {
    "name": "ipython",
    "version": 2
   },
   "file_extension": ".py",
   "mimetype": "text/x-python",
   "name": "python",
   "nbconvert_exporter": "python",
   "pygments_lexer": "ipython2",
   "version": "2.7.15"
  }
 },
 "nbformat": 4,
 "nbformat_minor": 2
}
