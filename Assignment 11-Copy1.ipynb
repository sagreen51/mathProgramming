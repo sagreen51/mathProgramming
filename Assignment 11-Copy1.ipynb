{
 "cells": [
  {
   "cell_type": "markdown",
   "metadata": {},
   "source": [
    "$$Assignment \\space Eleven \\\\\n",
    "Due \\space May \\space 8th \\\\ \n",
    "Steven \\space Green \\\\\n",
    "817121481\n",
    "$$"
   ]
  },
  {
   "cell_type": "code",
   "execution_count": 1,
   "metadata": {},
   "outputs": [],
   "source": [
    "import numpy as np\n",
    "import matplotlib.pyplot as plt\n",
    "import scipy.integrate as spqd\n",
    "from time import time\n",
    "import math as math\n",
    "%matplotlib inline"
   ]
  },
  {
   "cell_type": "code",
   "execution_count": 2,
   "metadata": {},
   "outputs": [],
   "source": [
    "def simpson_method(a,b,N,f):\n",
    "    Nint = int(N)\n",
    "    Tint = 2*Nint\n",
    "    xvals = np.linspace(a,b,Tint+1)\n",
    "    fvals = f(xvals)\n",
    "    dx = (b-a)/(2.*N)\n",
    "    return dx/3.*(fvals[0] + fvals[Tint] + 2.*np.sum(fvals[2:Tint-1:2]) + 4.*np.sum(fvals[1:Tint:2]))"
   ]
  },
  {
   "cell_type": "code",
   "execution_count": 3,
   "metadata": {},
   "outputs": [],
   "source": [
    "def adap_quad_comp(f,a,b,c,fa,fb,fc,Aab,tol):    \n",
    "    d = (a+c)/2.\n",
    "    e = (b+c)/2.\n",
    "    fd = f(d)\n",
    "    fe = f(e)\n",
    "    dx3 = (d-a)/3.\n",
    "    Aac = dx3*(fa+4.*fd+fc)\n",
    "    Acb = dx3*(fc+4.*fe+fb)\n",
    "    if np.abs(Aab-(Aac+Acb))<=tol: \n",
    "        return (16./15.*(Aac+Acb)-Aab/15.)\n",
    "    else:  \n",
    "        F1 = adap_quad_comp(f,a,c,d,fa,fc,fd,Aac,tol)\n",
    "        F2 = adap_quad_comp(f,c,b,e,fc,fb,fe,Acb,tol)\n",
    "        return F1 + F2\n",
    "    \n",
    "def adap_quad(f,a,b,tol):\n",
    "    c = (a+b)/2.\n",
    "    fa = f(a)\n",
    "    fb = f(b)\n",
    "    fc = f(c)\n",
    "    dx3 = (c-a)/3.\n",
    "    Aab = dx3*(fa+4.*fc+fb)\n",
    "    ival = adap_quad_comp(f,a,b,c,fa,fb,fc,Aab,tol)    \n",
    "    return ival"
   ]
  },
  {
   "cell_type": "markdown",
   "metadata": {},
   "source": [
    "Problem 1: [7 points] Use the adaptive quadrature algorithm to evaluate\n",
    "\n",
    "$$\n",
    "\\int_{-\\pi/4}^{\\pi/2} \\frac{dt}{\\sin\\left(\\sqrt{|t|} \\right)}.\n",
    "$$\n",
    "State how you arrive at your result i.e. what tolerances do you choose and what degree of accuracy can you argue that they provide you? Why do you not encounter divide-by-zero difficulties at $t=0$?"
   ]
  },
  {
   "cell_type": "code",
   "execution_count": 9,
   "metadata": {},
   "outputs": [],
   "source": [
    "# Answer to problem 1 \n",
    "def f(xvals):\n",
    "    fvals = 1/np.sin(np.sqrt(np.abs(xvals)))\n",
    "    return fvals"
   ]
  },
  {
   "cell_type": "code",
   "execution_count": 10,
   "metadata": {},
   "outputs": [],
   "source": [
    "def adap_error_test(a,b,f):\n",
    "    tval = (b-a)/2. + (np.sin(2.*b)-np.sin(2.*a))/4.\n",
    "    tolvals = np.array([1e-1,1e-2,1e-3,1e-4])\n",
    "    Evals = np.zeros(tolvals.size)\n",
    "    for jj in xrange(0,tolvals.size):\n",
    "        Evals[jj] = np.log10(np.abs(tval - adap_quad(f,a,b,tolvals[jj])))\n",
    "    xvals = -np.log10(tolvals)\n",
    "    plt.plot(xvals,Evals)\n",
    "    plt.xlabel('$-log_{10}(tol)$')\n",
    "    plt.ylabel('$log_{10}(Error)$')\n",
    "    \n",
    "    novals = Evals.size\n",
    "    slopes = (Evals[1:novals]-Evals[0:novals-1])/(xvals[1:novals]-xvals[0:novals-1])\n",
    "    print np.min(slopes)\n",
    "    print np.max(slopes)\n",
    "    print np.mean(slopes)"
   ]
  },
  {
   "cell_type": "code",
   "execution_count": 13,
   "metadata": {},
   "outputs": [],
   "source": [
    "def csq(xvals):\n",
    "    return (np.sin(np.sqrt(np.abs(xvals))))"
   ]
  },
  {
   "cell_type": "code",
   "execution_count": 22,
   "metadata": {},
   "outputs": [
    {
     "name": "stdout",
     "output_type": "stream",
     "text": [
      "-0.04303366692848054\n",
      "-0.0006192480523964372\n",
      "-0.016351020236985907\n"
     ]
    },
    {
     "data": {
      "image/png": "[encoded data removed]",
      "text/plain": [
       "<Figure size 432x288 with 1 Axes>"
      ]
     },
     "metadata": {
      "needs_background": "light"
     },
     "output_type": "display_data"
    }
   ],
   "source": [
    "adap_error_test(-(np.pi/4.),np.pi/2.,csq)"
   ]
  },
  {
   "cell_type": "markdown",
   "metadata": {},
   "source": [
    "\n",
    "Problem 2: [10 points] Definite integrals sometimes have the property that the integrand becomes infinite at one or both of the endpoints, but the integral itself is finite. In other words, $\\lim_{x\\rightarrow a}|f(x)|=\\infty$ or $\\lim_{x\\rightarrow a}|f(x)|=\\infty$, but\n",
    "\n",
    "$$\n",
    "\\int_{a}^{b}f(x)dx \n",
    "$$\n",
    "exists and is finite.\n",
    "\n",
    "[7 points] Modify the adaptive quadrature algorithm so that if an infinite value of $f(a)$ or $f(b)$ is detected, an appropriate warning message is displayed and $f(x)$ is reevaluated at a point very near to a or b.\n",
    "\n",
    "[3 points] Find an example that triggers the warning, but has a finite integral."
   ]
  },
  {
   "cell_type": "code",
   "execution_count": 34,
   "metadata": {},
   "outputs": [],
   "source": [
    "def adap_quad_comp2(f,a,b,c,fa,fb,fc,Aab,tol):    \n",
    "    d = (a+c)/2.\n",
    "    e = (b+c)/2.\n",
    "    fd = f(d)\n",
    "    fe = f(e)\n",
    "    dx3 = (d-a)/3.\n",
    "    Aac = dx3*(fa+4.*fd+fc)\n",
    "    Acb = dx3*(fc+4.*fe+fb)\n",
    "    if np.abs(Aab-(Aac+Acb))<=tol: \n",
    "        return (16./15.*(Aac+Acb)-Aab/15.)\n",
    "    else:  \n",
    "        F1 = adap_quad_comp(f,a,c,d,fa,fc,fd,Aac,tol)\n",
    "        F2 = adap_quad_comp(f,c,b,e,fc,fb,fe,Acb,tol)\n",
    "        return F1 + F2\n",
    "    \n",
    "def adap_quad2(f,a,b,tol):\n",
    "    c = (a+b)/2.\n",
    "    fa = f(a)\n",
    "    fb = f(b)\n",
    "    fc = f(c)\n",
    "    dx3 = (c-a)/3.\n",
    "    Aab = dx3*(fa+4.*fc+fb)\n",
    "    ival = adap_quad_comp(f,a,b,c,fa,fb,fc,Aab,tol)    \n",
    "    return ival"
   ]
  },
  {
   "cell_type": "code",
   "execution_count": null,
   "metadata": {},
   "outputs": [],
   "source": []
  },
  {
   "cell_type": "markdown",
   "metadata": {},
   "source": [
    "Problem 3: (23 pts) Consider the following table:"
   ]
  },
  {
   "cell_type": "markdown",
   "metadata": {},
   "source": [
    "x | 1 | 1.1 | 1.2 | 1.3 | 1.4 \n",
    "--|--|--|--|--|-- \n",
    "cos(x) | 0.54030 | 0.45360 | 0.36236 | 0.26750 | 0.16997 "
   ]
  },
  {
   "cell_type": "markdown",
   "metadata": {},
   "source": [
    "(i) [10 points] Using Newton Interpolation, write a program to obtain\n",
    "\n",
    "(ii) [2 points] A polynomial of degree 1 that interpolates $\\cos(x)$.\n",
    "\n",
    "(iii) [2 points] A polynomial of degree 2 that interpolates $\\cos(x)$.\n",
    "\n",
    "(iv) [2 points] A polynomial of degree 3 that interpolates $\\cos(x)$.\n",
    "\n",
    "(v) [2 points] A polynomial of degree 4 that interpolates $\\cos(x)$.\n",
    "\n",
    "(vi) [5 points] Compute $\\cos(1.05)$ using the various order polynomials and investigate the error for the Newton polynomial approximations in (ii) - (v)"
   ]
  },
  {
   "cell_type": "markdown",
   "metadata": {},
   "source": [
    "(i) [10 points] Using Newton Interpolation, write a program to obtain\n",
    "\n",
    "(ii) [2 points] A polynomial of degree 1 that interpolates $\\cos(x)$.\n",
    "\n",
    "(iii) [2 points] A polynomial of degree 2 that interpolates $\\cos(x)$.\n",
    "\n",
    "(iv) [2 points] A polynomial of degree 3 that interpolates $\\cos(x)$.\n",
    "\n",
    "(v) [2 points] A polynomial of degree 4 that interpolates $\\cos(x)$.\n",
    "\n",
    "(vi) [5 points] Compute $\\cos(1.05)$ using the various order polynomials and investigate the error for the Newton polynomial approximations in (ii) - (v)"
   ]
  },
  {
   "cell_type": "code",
   "execution_count": 19,
   "metadata": {},
   "outputs": [],
   "source": [
    "def lfun(xvals,jj,x):\n",
    "    lval = np.ones(x.size)\n",
    "    # Insert code here\n",
    "    n = xvals.size\n",
    "    for l in xrange(0,n):\n",
    "        if l != jj:\n",
    "            lval *= (x-xvals[l])/float(xvals[jj]-xvals[l])  \n",
    "\n",
    "    return lval"
   ]
  },
  {
   "cell_type": "code",
   "execution_count": 20,
   "metadata": {},
   "outputs": [],
   "source": [
    "def lagran_interp(xvals,fvals,x):\n",
    "    n = fvals.size\n",
    "    # Insert code here \n",
    "    ipoly = np.zeros(x.size)\n",
    "    for jj in xrange(0,n):\n",
    "        ipoly += fvals[jj]*lfun(xvals,jj,x)\n",
    "   \n",
    "    return ipoly"
   ]
  },
  {
   "cell_type": "code",
   "execution_count": 21,
   "metadata": {},
   "outputs": [
    {
     "name": "stderr",
     "output_type": "stream",
     "text": [
      "C:\\Users\\steve\\Anaconda2\\lib\\site-packages\\ipykernel_launcher.py:6: RuntimeWarning: divide by zero encountered in log10\n",
      "  \n"
     ]
    },
    {
     "data": {
      "text/plain": [
       "[<matplotlib.lines.Line2D at 0x8a6dba8>]"
      ]
     },
     "execution_count": 21,
     "metadata": {},
     "output_type": "execute_result"
    },
    {
     "data": {
      "image/png": "[encoded data removed]",
      "text/plain": [
       "<Figure size 432x288 with 1 Axes>"
      ]
     },
     "metadata": {
      "needs_background": "light"
     },
     "output_type": "display_data"
    }
   ],
   "source": [
    "xinterp = np.linspace(1.,1.4,int(1e3))\n",
    "ftrue =np.cos(xinterp)\n",
    "xvals = xinterp[::100]\n",
    "fvals = ftrue[::100]\n",
    "finterp = lagran_interp(xvals,fvals,xinterp)\n",
    "plt.plot(xinterp,np.log10(np.abs(ftrue-finterp)),ls='-',color='k')"
   ]
  },
  {
   "cell_type": "code",
   "execution_count": 23,
   "metadata": {},
   "outputs": [
    {
     "name": "stderr",
     "output_type": "stream",
     "text": [
      "C:\\Users\\steve\\Anaconda2\\lib\\site-packages\\ipykernel_launcher.py:6: RuntimeWarning: divide by zero encountered in log10\n",
      "  \n"
     ]
    },
    {
     "data": {
      "text/plain": [
       "[<matplotlib.lines.Line2D at 0xa2d7fd0>]"
      ]
     },
     "execution_count": 23,
     "metadata": {},
     "output_type": "execute_result"
    },
    {
     "data": {
      "image/png": "[encoded data removed]",
      "text/plain": [
       "<Figure size 432x288 with 1 Axes>"
      ]
     },
     "metadata": {
      "needs_background": "light"
     },
     "output_type": "display_data"
    }
   ],
   "source": [
    "xinterp = np.linspace(1.,1.4,int(1e3))\n",
    "ftrue =np.cos(xinterp)**2\n",
    "xvals = xinterp[::100]\n",
    "fvals = ftrue[::100]\n",
    "finterp = lagran_interp(xvals,fvals,xinterp)\n",
    "plt.plot(xinterp,np.log10(np.abs(ftrue-finterp)),ls='-',color='k')"
   ]
  },
  {
   "cell_type": "code",
   "execution_count": 24,
   "metadata": {},
   "outputs": [
    {
     "name": "stderr",
     "output_type": "stream",
     "text": [
      "C:\\Users\\steve\\Anaconda2\\lib\\site-packages\\ipykernel_launcher.py:6: RuntimeWarning: divide by zero encountered in log10\n",
      "  \n"
     ]
    },
    {
     "data": {
      "text/plain": [
       "[<matplotlib.lines.Line2D at 0xa672400>]"
      ]
     },
     "execution_count": 24,
     "metadata": {},
     "output_type": "execute_result"
    },
    {
     "data": {
      "image/png": "[encoded data removed]",
      "text/plain": [
       "<Figure size 432x288 with 1 Axes>"
      ]
     },
     "metadata": {
      "needs_background": "light"
     },
     "output_type": "display_data"
    }
   ],
   "source": [
    "xinterp = np.linspace(1.,1.4,int(1e3))\n",
    "ftrue =np.cos(xinterp)**3\n",
    "xvals = xinterp[::100]\n",
    "fvals = ftrue[::100]\n",
    "finterp = lagran_interp(xvals,fvals,xinterp)\n",
    "plt.plot(xinterp,np.log10(np.abs(ftrue-finterp)),ls='-',color='k')"
   ]
  },
  {
   "cell_type": "code",
   "execution_count": 25,
   "metadata": {},
   "outputs": [
    {
     "name": "stderr",
     "output_type": "stream",
     "text": [
      "C:\\Users\\steve\\Anaconda2\\lib\\site-packages\\ipykernel_launcher.py:6: RuntimeWarning: divide by zero encountered in log10\n",
      "  \n"
     ]
    },
    {
     "data": {
      "text/plain": [
       "[<matplotlib.lines.Line2D at 0xa828c50>]"
      ]
     },
     "execution_count": 25,
     "metadata": {},
     "output_type": "execute_result"
    },
    {
     "data": {
      "image/png": "[encoded data removed]",
      "text/plain": [
       "<Figure size 432x288 with 1 Axes>"
      ]
     },
     "metadata": {
      "needs_background": "light"
     },
     "output_type": "display_data"
    }
   ],
   "source": [
    "xinterp = np.linspace(1.,1.4,int(1e3))\n",
    "ftrue =np.cos(xinterp)**4\n",
    "xvals = xinterp[::100]\n",
    "fvals = ftrue[::100]\n",
    "finterp = lagran_interp(xvals,fvals,xinterp)\n",
    "plt.plot(xinterp,np.log10(np.abs(ftrue-finterp)),ls='-',color='k')"
   ]
  },
  {
   "cell_type": "code",
   "execution_count": 36,
   "metadata": {},
   "outputs": [
    {
     "ename": "IndexError",
     "evalue": "invalid index to scalar variable.",
     "output_type": "error",
     "traceback": [
      "\u001b[1;31m---------------------------------------------------------------------------\u001b[0m",
      "\u001b[1;31mIndexError\u001b[0m                                Traceback (most recent call last)",
      "\u001b[1;32m<ipython-input-36-927ce14bac32>\u001b[0m in \u001b[0;36m<module>\u001b[1;34m()\u001b[0m\n\u001b[0;32m      2\u001b[0m \u001b[0mftrue\u001b[0m \u001b[1;33m=\u001b[0m\u001b[0mnp\u001b[0m\u001b[1;33m.\u001b[0m\u001b[0mcos\u001b[0m\u001b[1;33m(\u001b[0m\u001b[1;36m1.05\u001b[0m\u001b[1;33m)\u001b[0m\u001b[1;33m**\u001b[0m\u001b[1;36m2.\u001b[0m\u001b[1;33m\u001b[0m\u001b[0m\n\u001b[0;32m      3\u001b[0m \u001b[0mxvals\u001b[0m \u001b[1;33m=\u001b[0m \u001b[0mxinterp\u001b[0m\u001b[1;33m[\u001b[0m\u001b[1;33m:\u001b[0m\u001b[1;33m:\u001b[0m\u001b[1;36m100\u001b[0m\u001b[1;33m]\u001b[0m\u001b[1;33m\u001b[0m\u001b[0m\n\u001b[1;32m----> 4\u001b[1;33m \u001b[0mfvals\u001b[0m \u001b[1;33m=\u001b[0m \u001b[0mftrue\u001b[0m\u001b[1;33m[\u001b[0m\u001b[1;33m:\u001b[0m\u001b[1;33m:\u001b[0m\u001b[1;36m100\u001b[0m\u001b[1;33m]\u001b[0m\u001b[1;33m\u001b[0m\u001b[0m\n\u001b[0m\u001b[0;32m      5\u001b[0m \u001b[0mfinterp\u001b[0m \u001b[1;33m=\u001b[0m \u001b[0mlagran_interp\u001b[0m\u001b[1;33m(\u001b[0m\u001b[0mxvals\u001b[0m\u001b[1;33m,\u001b[0m\u001b[0mfvals\u001b[0m\u001b[1;33m,\u001b[0m\u001b[0mxinterp\u001b[0m\u001b[1;33m)\u001b[0m\u001b[1;33m\u001b[0m\u001b[0m\n\u001b[0;32m      6\u001b[0m \u001b[0mplt\u001b[0m\u001b[1;33m.\u001b[0m\u001b[0mplot\u001b[0m\u001b[1;33m(\u001b[0m\u001b[0mxinterp\u001b[0m\u001b[1;33m,\u001b[0m\u001b[0mnp\u001b[0m\u001b[1;33m.\u001b[0m\u001b[0mlog10\u001b[0m\u001b[1;33m(\u001b[0m\u001b[0mnp\u001b[0m\u001b[1;33m.\u001b[0m\u001b[0mabs\u001b[0m\u001b[1;33m(\u001b[0m\u001b[0mftrue\u001b[0m\u001b[1;33m-\u001b[0m\u001b[0mfinterp\u001b[0m\u001b[1;33m)\u001b[0m\u001b[1;33m)\u001b[0m\u001b[1;33m,\u001b[0m\u001b[0mls\u001b[0m\u001b[1;33m=\u001b[0m\u001b[1;34m'-'\u001b[0m\u001b[1;33m,\u001b[0m\u001b[0mcolor\u001b[0m\u001b[1;33m=\u001b[0m\u001b[1;34m'k'\u001b[0m\u001b[1;33m)\u001b[0m\u001b[1;33m\u001b[0m\u001b[0m\n",
      "\u001b[1;31mIndexError\u001b[0m: invalid index to scalar variable."
     ]
    }
   ],
   "source": [
    "xinterp = np.linspace(1.,1.4,int(1e3))\n",
    "ftrue =np.cos(1.05)**2.\n",
    "xvals = xinterp[::100]\n",
    "fvals = ftrue[::100]\n",
    "finterp = lagran_interp(xvals,fvals,xinterp)\n",
    "plt.plot(xinterp,np.log10(np.abs(ftrue-finterp)),ls='-',color='k')"
   ]
  },
  {
   "cell_type": "markdown",
   "metadata": {},
   "source": [
    "Problem 4: (10 pts)\n",
    "\n",
    "i) [8 points] Write a python program to find the cubic root of a number based on Newton method.\n",
    "\n",
    "ii) [2 points] Using your program in i), compute the root of $a=155$"
   ]
  },
  {
   "cell_type": "code",
   "execution_count": 16,
   "metadata": {},
   "outputs": [],
   "source": [
    "# Answer to problem 4\n",
    "\n",
    "def Newtons_method(x0,rootOf,tol):\n",
    "    \n",
    "    f = lambda x: x**(3.)-rootOf\n",
    "    fp = lambda x: 3.*x**2.\n",
    "    \n",
    "    x1 = x0 - f(x0)/fp(x0)\n",
    "    \n",
    "    while np.abs(x1-x0):\n",
    "        x0 = x1\n",
    "        x1 = x0 - f(x0)/fp(x0)\n",
    "        \n",
    "    ##print \"A root of f(x) is: %1.15f\" %x1\n",
    "    return x1"
   ]
  },
  {
   "cell_type": "code",
   "execution_count": 17,
   "metadata": {},
   "outputs": [
    {
     "data": {
      "text/plain": [
       "5.371685354944832"
      ]
     },
     "execution_count": 17,
     "metadata": {},
     "output_type": "execute_result"
    }
   ],
   "source": [
    "Newtons_method(5.,155.,1e-7)"
   ]
  },
  {
   "cell_type": "code",
   "execution_count": null,
   "metadata": {},
   "outputs": [],
   "source": []
  }
 ],
 "metadata": {
  "kernelspec": {
   "display_name": "Python 2",
   "language": "python",
   "name": "python2"
  },
  "language_info": {
   "codemirror_mode": {
    "name": "ipython",
    "version": 2
   },
   "file_extension": ".py",
   "mimetype": "text/x-python",
   "name": "python",
   "nbconvert_exporter": "python",
   "pygments_lexer": "ipython2",
   "version": "2.7.15"
  }
 },
 "nbformat": 4,
 "nbformat_minor": 2
}
