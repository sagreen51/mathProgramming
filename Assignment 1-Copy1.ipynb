{
 "cells": [
  {
   "cell_type": "markdown",
   "metadata": {},
   "source": [
    "Assignment 1 Steven Green 817121481"
   ]
  },
  {
   "cell_type": "code",
   "execution_count": 1,
   "metadata": {},
   "outputs": [],
   "source": [
    "import numpy as np"
   ]
  },
  {
   "cell_type": "markdown",
   "metadata": {},
   "source": [
    "Assignment 1\n",
    "Due date: Friday, February 1st\n",
    "Problem 1 - 3 pts each: Write the solution to the following indefinite integrals using LaTeX. No credit will be awarded for work turned in any other format. Follow the model below."
   ]
  },
  {
   "cell_type": "markdown",
   "metadata": {},
   "source": [
    "$$\n",
    "\\int \\sin(x) dx = -\\cos(x) + C\n",
    "$$"
   ]
  },
  {
   "cell_type": "markdown",
   "metadata": {},
   "source": [
    "$$\n",
    "        \\int \\cos^{2}\\left( 3x \\right) \\sim dx = \\frac{1}{2}\\left(x + \\frac{1}{6}(6x)\\right) + C\n",
    "        $$"
   ]
  },
  {
   "cell_type": "markdown",
   "metadata": {},
   "source": [
    "$$\n",
    "    \\int \\left( \\frac{1}{x^2} - \\frac{4}{x^3}\\right) dx = \\frac{2-x}{x^2} + C\n",
    "    $$"
   ]
  },
  {
   "cell_type": "markdown",
   "metadata": {},
   "source": [
    "$$\n",
    "    \\int \\frac{x}{\\sqrt{1-4x^2}} \\sim dx = -\\frac{1}{4}{\\sqrt{1-4x^2}} + C\n",
    "    $$"
   ]
  },
  {
   "cell_type": "markdown",
   "metadata": {},
   "source": [
    "Problem 2 - 8 pts: If the grading scale for a test is such that A=90-100, B = 80-90, C = 70-79, and any number below 70 is F. Write a function called Lettergrade that takes one scalar input representing the grade of a student. Your function should determine the letter grade of the student based on the input. Example, if you run your program with grade = 85.6, the program should return the following: Your scored 85.6 on the test, your letter grade is B.\n",
    "\n",
    "Test your program with the following grades: 95.5, 34.9, 78.4, 87.5 and present your output."
   ]
  },
  {
   "cell_type": "code",
   "execution_count": 28,
   "metadata": {},
   "outputs": [],
   "source": [
    "def Lettergrade(num):\n",
    "    grade = \"F\"\n",
    "    if (num >= 90):\n",
    "        grade = \"A\"\n",
    "    elif (num >= 80):\n",
    "        grade = \"B\"\n",
    "    elif (num >= 70):\n",
    "        grade = \"C\"\n",
    "    print \"Your Scored \" + str(num) + \" on the test, your letter grade is \" + str(grade) +\".\" \n",
    "    "
   ]
  },
  {
   "cell_type": "code",
   "execution_count": 23,
   "metadata": {},
   "outputs": [
    {
     "name": "stdout",
     "output_type": "stream",
     "text": [
      "Your Scored 95.5 on the test, your letter grade is A.\n"
     ]
    }
   ],
   "source": [
    "Lettergrade(95.5)"
   ]
  },
  {
   "cell_type": "code",
   "execution_count": 11,
   "metadata": {},
   "outputs": [
    {
     "name": "stdout",
     "output_type": "stream",
     "text": [
      "Your Scored 34.9 on the test, your letter grade is F.\n"
     ]
    }
   ],
   "source": [
    "Lettergrade(34.9)"
   ]
  },
  {
   "cell_type": "code",
   "execution_count": 29,
   "metadata": {},
   "outputs": [
    {
     "name": "stdout",
     "output_type": "stream",
     "text": [
      "Your Scored 78.4 on the test, your letter grade is C.\n"
     ]
    }
   ],
   "source": [
    "Lettergrade(78.4)"
   ]
  },
  {
   "cell_type": "code",
   "execution_count": 30,
   "metadata": {},
   "outputs": [
    {
     "name": "stdout",
     "output_type": "stream",
     "text": [
      "Your Scored 87.5 on the test, your letter grade is B.\n"
     ]
    }
   ],
   "source": [
    "Lettergrade(87.5)"
   ]
  },
  {
   "cell_type": "markdown",
   "metadata": {},
   "source": [
    "Problem 3 - 3 pts: Using the classic result for a geometric series that"
   ]
  },
  {
   "cell_type": "markdown",
   "metadata": {},
   "source": [
    "$$\n",
    "        \\sum_{n=0}^{\\infty}x^{n} = \\frac{1}{1-x}, \\sim \\left|x\\right|<1\n",
    "        $$"
   ]
  },
  {
   "cell_type": "markdown",
   "metadata": {},
   "source": [
    "find the following sums. Use the above statement of the sum of a geometric series as a model. Again, use LaTeX to write your answers. No credit will be given otherwise."
   ]
  },
  {
   "cell_type": "markdown",
   "metadata": {},
   "source": [
    "$$\n",
    "\\sum_{j=0}^{\\infty} 3^{j/2}x^{2j}, \\sim |x|<\\frac{1}{3^{1/4}}\n",
    "$$"
   ]
  },
  {
   "cell_type": "markdown",
   "metadata": {},
   "source": [
    "$$\n",
    "\\sum_{j=0}^{\\infty} \\cos^{5j}(x), \\sim 0 < x < \\pi\n",
    "$$"
   ]
  },
  {
   "cell_type": "markdown",
   "metadata": {},
   "source": [
    "Answers to Problem 3 : Write your answers below using LaTeX. Again, use the beginning of the problem statement of Problem 3 as a model for your answers. (Problem 3.1 has been complete for you, attempt Problem 3.2 in the space provided below.)"
   ]
  },
  {
   "cell_type": "markdown",
   "metadata": {},
   "source": [
    "$$\n",
    "\\sum_{j=0}^{\\infty} 3^{j/2}x^{2j} = \\sum_{j=0}^{\\infty} \\left(3^{1/2}x^{2}\\right)^{j} = \\frac{1}{1-3^{1/2}x^{2}}, \\sim|x|<\\frac{1}{3^{1/4}}\n",
    "$$"
   ]
  },
  {
   "cell_type": "markdown",
   "metadata": {},
   "source": [
    "$$\n",
    "\\sum_{j=0}^{\\infty} \\cos^{5j}(x), \\sim 0 < x < \\pi = \\frac{1}{1-\\cos^{5j}(x)}, \\sim|\\cos^{5j}(x)|<{1}\n",
    "$$"
   ]
  },
  {
   "cell_type": "code",
   "execution_count": null,
   "metadata": {},
   "outputs": [],
   "source": []
  }
 ],
 "metadata": {
  "kernelspec": {
   "display_name": "Python 2",
   "language": "python",
   "name": "python2"
  },
  "language_info": {
   "codemirror_mode": {
    "name": "ipython",
    "version": 2
   },
   "file_extension": ".py",
   "mimetype": "text/x-python",
   "name": "python",
   "nbconvert_exporter": "python",
   "pygments_lexer": "ipython2",
   "version": "2.7.15"
  }
 },
 "nbformat": 4,
 "nbformat_minor": 2
}
