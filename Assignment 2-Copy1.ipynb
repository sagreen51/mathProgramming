{
 "cells": [
  {
   "cell_type": "code",
   "execution_count": 4,
   "metadata": {},
   "outputs": [],
   "source": [
    "import numpy as np\n",
    "import matplotlib.pyplot as plt\n",
    "%matplotlib inline"
   ]
  },
  {
   "cell_type": "markdown",
   "metadata": {},
   "source": [
    "Problem 1 - 4 pts each: Using the Taylor series, prove the identities. For example, given that\n",
    "\n",
    "$$\n",
    "e^{x} = \\sum_{j=0}^{\\infty} \\frac{x^{j}}{j!}\n",
    "$$\n",
    "we can show that\n",
    "\n",
    "$$\n",
    "\\frac{d}{dx}e^{x} = e^{x}\n",
    "$$\n",
    "by seeing that\n",
    "\n",
    "$$\\begin{align}\n",
    "\\frac{d}{dx}e^{x} = &amp; \\sum_{j=0}^{\\infty} \\frac{d}{dx} \\frac{x^{j}}{j!}\\\\\n",
    "=  \\sum_{j=1}^{\\infty} j\\frac{x^{j-1}}{j!}\\\\\n",
    "=  \\sum_{j=1}^{\\infty} \\frac{x^{j-1}}{(j-1)!}\\\\\n",
    "=  \\sum_{k=0}^{\\infty} \\frac{x^{k}}{k!}, ~ k = j-1\\\\\n",
    "=  e^{x}.\n",
    "\\end{align}$$\n",
    "Use the TeX provided in the problem statement to help provide the relevant details of your computations.\n",
    "\n",
    "1a. Using $$\n",
    "    \\cos(x) = \\sum_{j=0}^{\\infty}\\frac{(-1)^{j}x^{2j}}{(2j)!}, ~ \\sin(x) = \\sum_{j=0}^{\\infty}\\frac{(-1)^{j}x^{2j+1}}{(2j+1)!}\n",
    "    $$ show that $$\n",
    "    \\frac{d}{dx}\\cos(x) = -\\sin(x).\n",
    "    $$\n",
    "\n"
   ]
  },
  {
   "cell_type": "markdown",
   "metadata": {},
   "source": [
    "$$\n",
    "    \\cos(x) = \\sum_{j=0}^{\\infty}\\frac{(-1)^{j}x^{2j}}{(2j)!},\n",
    "    $$"
   ]
  },
  {
   "cell_type": "markdown",
   "metadata": {},
   "source": [
    "1b) Using:\n",
    "    $$\n",
    "        \\frac{1}{a - t} = \\sum_{j = 0}^{\\infty}, |t|<1 ~and~ ln(1 + x) = \\int_{0}^{x} \\frac{dt}{1 + t}, x \\in (-1,\\infty)\n",
    "    $$"
   ]
  },
  {
   "cell_type": "markdown",
   "metadata": {},
   "source": [
    "...    1a.answer\n",
    "    $$\n",
    "        ln(1 + x) = \\sum_{j = 1}^{\\infty} (-1)^{j - 1}\\frac{x^j}{j}\n",
    "    $$"
   ]
  },
  {
   "cell_type": "markdown",
   "metadata": {},
   "source": [
    "Remember, when we have convergence, we have:\n",
    "    $$\n",
    "        \\int_{0}^{x}\\sum_{j = 0}^{\\infty}\\quad f_{j}(t)dt = \\sum_{j = 0}^{\\infty}\\int_{0}^{x}(t)dt\n",
    "    $$"
   ]
  },
  {
   "cell_type": "markdown",
   "metadata": {},
   "source": [
    "1b. answer"
   ]
  },
  {
   "cell_type": "markdown",
   "metadata": {},
   "source": [
    "Problem 2 - 3 pts each: Find a relationship between the given coefficients. By this we mean for example that if\n",
    "\n",
    "$$\n",
    "a_{j} = \\frac{1}{j!}, ~ j\\geq 0,\n",
    "$$\n",
    "then we have\n",
    "\n",
    "$$\n",
    "a_{j} = \\left\\{\\begin{array}{rl}  \n",
    "\\frac{a_{j-1}}{j}, &amp; j\\geq 1, \\\\ \n",
    "1, &amp; j=0.\n",
    "\\end{array}\\right.\n",
    "$$\n",
    "Note, the way to figure this out is to use the fact that if $a_{j} = 1/j!$ and $a_{j-1} = 1/(j-1)!$, then we can find the ratio of terms to be\n",
    "\n",
    "$$\n",
    "\\frac{a_{j}}{a_{j-1}} = \\frac{(j-1)!}{j!} = \\frac{1}{j}.\n",
    "$$\n",
    "2a. $$\n",
    "a_{j} = \\frac{1}{(j+1)!}, ~ j\\geq 0.\n",
    "$$\n",
    "\n",
    "2b. $$\n",
    "a_{j} = \\frac{9^{j}}{(2j+1)!}, ~ j\\geq 0.\n",
    "$$\n",
    "\n",
    "2c. $$\n",
    "a_{j}(x) = \\frac{x^{j}}{j!}, ~ j\\geq 0.\n",
    "$$\n",
    "\n",
    "2d. $$\n",
    "a_{j}(x) = \\frac{(-1)^{j} x^{2j}}{(2j)!}\n",
    "$$"
   ]
  },
  {
   "cell_type": "markdown",
   "metadata": {},
   "source": [
    "2e. For $n$ a positive integer $$\n",
    "a_{j}(x) = \\frac{1}{j!(n+j)!}\\left(\\frac{x}{2}\\right)^{2j}, ~ j\\geq 0.\n",
    "$$\n",
    "\n",
    "Answers to Problem 2\n",
    "\n",
    "_ 2a _\n",
    "_ 2b _\n",
    "_ 2c _\n",
    "_ 2d _\n",
    "_ 2e _"
   ]
  },
  {
   "cell_type": "markdown",
   "metadata": {},
   "source": [
    "Problem 3 : 7 pts. Using the given Python function for computing\n",
    "\n",
    "$$\n",
    "\\cos(x) \\approx T_{2n}(x) = \\sum_{j=0}^{n} (-1)^{j}\\frac{x^{2j}}{(2j)!}\n",
    "$$\n",
    "produce a plot which compares the various Taylor series approximations for $n=1, 2, 3, 4$ over the interval $[-1,3]$. Describe over which intervals each $T_{2n}(x)$ appears to be a valid approximation and at what point you would describe the approximation as breaking down. Yes, this is slightly subjective, but it is meant to make you think for a bit.\n",
    "\n",
    "Use the provided code below as a skeleton with which to produce your plot. Refer to the notes for help in completing this problem."
   ]
  },
  {
   "cell_type": "code",
   "execution_count": 5,
   "metadata": {},
   "outputs": [],
   "source": [
    "def tn_approx(x,n):\n",
    "    tot = 1.\n",
    "    term = 1.\n",
    "    for jj in xrange(1,n+1):\n",
    "        term *= -x**2./((2*jj)*(2*jj-1))\n",
    "        tot += term\n",
    "    return tot"
   ]
  },
  {
   "cell_type": "code",
   "execution_count": 8,
   "metadata": {},
   "outputs": [
    {
     "ename": "SyntaxError",
     "evalue": "invalid syntax (<ipython-input-8-8efe7d4c3f60>, line 11)",
     "output_type": "error",
     "traceback": [
      "\u001b[1;36m  File \u001b[1;32m\"<ipython-input-8-8efe7d4c3f60>\"\u001b[1;36m, line \u001b[1;32m11\u001b[0m\n\u001b[1;33m    plt.plot(xvals, t1_app, ls=\"--\", color=\"b\", label=)\u001b[0m\n\u001b[1;37m                                                      ^\u001b[0m\n\u001b[1;31mSyntaxError\u001b[0m\u001b[1;31m:\u001b[0m invalid syntax\n"
     ]
    }
   ],
   "source": [
    "xvals = np.linspace(-1.,3.,int(2e4))\n",
    "\n",
    "ex_vals = np.cos(xvals)\n",
    "\n",
    "t1_app = [tn_approx(xval,1) for xval in xvals]\n",
    "t2_app = [tn_approx(xval,2) for xval in xvals]\n",
    "t3_app = [tn_approx(xval,3) for xval in xvals]\n",
    "t4_app = [tn_approx(xval,4) for xval in xvals]\n",
    "\n",
    "plt.plot(xvals, ex_vals, ls=\"-\", color=\"k\", label=\"$\\cos(x)$\")\n",
    "plt.plot(xvals, t1_app, ls=\"--\", color=\"b\", label=)\n",
    "plt.plot(xvals, t2_app, ls=\"--\", color=\"g\", label=)\n",
    "plt.plot(xvals, t3_app, ls=\"--\", color=\"r\", label=)\n",
    "plt.plot(xvals, t4_app, ls=\"--\", color=\"y\", label=)\n",
    "\n",
    "plt.legend(loc=(.1,.8))\n",
    "\n",
    "plt.xlim(0,np.pi/2.)\n",
    "plt.ylim(.5,1.18)\n",
    "\n",
    "plt.axes().set_aspect(\"equal\")\n",
    "\n",
    "fig=plt.gcf() # get current figure\n",
    "fig.set_size_inches(9,7) # optional size"
   ]
  },
  {
   "cell_type": "markdown",
   "metadata": {},
   "source": [
    "Provide Explanation of Results Here: "
   ]
  },
  {
   "cell_type": "code",
   "execution_count": null,
   "metadata": {},
   "outputs": [],
   "source": []
  }
 ],
 "metadata": {
  "kernelspec": {
   "display_name": "Python 2",
   "language": "python",
   "name": "python2"
  },
  "language_info": {
   "codemirror_mode": {
    "name": "ipython",
    "version": 2
   },
   "file_extension": ".py",
   "mimetype": "text/x-python",
   "name": "python",
   "nbconvert_exporter": "python",
   "pygments_lexer": "ipython2",
   "version": "2.7.15"
  }
 },
 "nbformat": 4,
 "nbformat_minor": 2
}
